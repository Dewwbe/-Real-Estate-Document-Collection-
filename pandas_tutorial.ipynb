{
  "cells": [
    {
      "cell_type": "markdown",
      "metadata": {
        "id": "view-in-github",
        "colab_type": "text"
      },
      "source": [
        "<a href=\"https://colab.research.google.com/github/Dewwbe/-Real-Estate-Document-Collection-/blob/main/pandas_tutorial.ipynb\" target=\"_parent\"><img src=\"https://colab.research.google.com/assets/colab-badge.svg\" alt=\"Open In Colab\"/></a>"
      ]
    },
    {
      "cell_type": "markdown",
      "id": "3XE-GC7PvOBN",
      "metadata": {
        "id": "3XE-GC7PvOBN"
      },
      "source": [
        "# Pandas Complete tutorial for data science in 2022\n",
        "\n",
        "This is part of the original article [Pandas Complete tutorial for data science in 2022](https://norochalise.medium.com/pandas-complete-tutorial-for-data-science-in-2022-685a4c6df347)\n",
        "\n",
        "https://github.com/norochalise/pandas-tutorial-article-2022"
      ]
    },
    {
      "cell_type": "markdown",
      "id": "q72dXwaog4h7",
      "metadata": {
        "id": "q72dXwaog4h7"
      },
      "source": [
        "## 1. Setup\n"
      ]
    },
    {
      "cell_type": "markdown",
      "id": "vSvx8LjDp6Yh",
      "metadata": {
        "id": "vSvx8LjDp6Yh"
      },
      "source": [
        "### Import\n",
        "\n",
        "Before moving on to learn pandas first we need to install it and import it. If you install [Anaconda distributions](https://www.anaconda.com/) on your local machine or using [Google Colab](https://research.google.com/colaboratory) then pandas will already be available there, otherwise, you follow this installation process from [pandas official's website](https://pandas.pydata.org/docs/getting_started/install.html)."
      ]
    },
    {
      "cell_type": "code",
      "execution_count": 15,
      "id": "e7dcee3a",
      "metadata": {
        "id": "e7dcee3a"
      },
      "outputs": [],
      "source": [
        "# Importing libraries\n",
        "import numpy as np\n",
        "import pandas as pd"
      ]
    },
    {
      "cell_type": "code",
      "execution_count": 16,
      "id": "CeSsGkTMiMcI",
      "metadata": {
        "id": "CeSsGkTMiMcI"
      },
      "outputs": [],
      "source": [
        "# we can set numbers for how many rows and columns will be displayed\n",
        "pd.set_option('display.min_rows', 10) #default will be 10\n",
        "pd.set_option('display.max_columns', 20)"
      ]
    },
    {
      "cell_type": "markdown",
      "id": "68cb06b1",
      "metadata": {
        "id": "68cb06b1"
      },
      "source": [
        "## 2. Loading Different Data Formats Into a Pandas Data Frame\n",
        "\n",
        "\n"
      ]
    },
    {
      "cell_type": "markdown",
      "id": "7_X0klbRI24J",
      "metadata": {
        "id": "7_X0klbRI24J"
      },
      "source": [
        "### Reading CSV file\n"
      ]
    },
    {
      "cell_type": "code",
      "execution_count": 17,
      "id": "56739039",
      "metadata": {
        "id": "56739039",
        "colab": {
          "base_uri": "https://localhost:8080/",
          "height": 557
        },
        "outputId": "dc097e34-a516-42c9-9682-a01fba2ef045"
      },
      "outputs": [
        {
          "output_type": "execute_result",
          "data": {
            "text/plain": [
              "   Transaction_date  Transaction_ID  Gender   Age Marital_status  \\\n",
              "0          1/1/2019          151200  Female  19.0         Single   \n",
              "1          1/1/2019          151201    Male  49.0         Single   \n",
              "2          1/1/2019          151202    Male  63.0        Married   \n",
              "3          1/1/2019          151203     NaN  18.0         Single   \n",
              "4          1/1/2019          151204    Male  27.0         Single   \n",
              "5          1/3/2019          151205    Male  71.0         Single   \n",
              "6          1/3/2019          151206  Female  34.0        Married   \n",
              "7          1/3/2019          151207    Male  37.0        Married   \n",
              "8          1/4/2019          151208    Male  75.0        Married   \n",
              "9          1/4/2019          151209  Female  41.0        Married   \n",
              "10         1/4/2019          151210  Female  56.0        Married   \n",
              "11         1/5/2019          151211  Female  63.0        Married   \n",
              "12         1/5/2019          151212  Female  60.0        Married   \n",
              "13         1/5/2019          151213    Male  47.0         Single   \n",
              "14         1/5/2019          151214    Male  24.0        Married   \n",
              "\n",
              "       State_names   Segment Employees_status Payment_method  Referal  \\\n",
              "0           Kansas     Basic     Unemployment          Other      1.0   \n",
              "1         Illinois     Basic    self-employed           Card      0.0   \n",
              "2       New Mexico     Basic          workers         PayPal      1.0   \n",
              "3         Virginia  Platinum          workers           Card      1.0   \n",
              "4      Connecticut     Basic    self-employed           Card      0.0   \n",
              "5           Hawaii     Basic        Employees         PayPal      1.0   \n",
              "6       New Mexico  Platinum        Employees         PayPal      1.0   \n",
              "7      Connecticut     Basic          workers         PayPal      1.0   \n",
              "8          Florida    Silver        Employees           Card      0.0   \n",
              "9          Vermont      Gold     Unemployment           Card      1.0   \n",
              "10      California     Basic        Employees         PayPal      0.0   \n",
              "11        Colorado     Basic          workers          Other      1.0   \n",
              "12            Iowa     Basic    self-employed           Card      1.0   \n",
              "13  South Carolina     Basic        Employees         PayPal      1.0   \n",
              "14        Colorado  Platinum    self-employed          Other      1.0   \n",
              "\n",
              "    Amount_spent  \n",
              "0        2051.36  \n",
              "1         544.04  \n",
              "2        1572.60  \n",
              "3        1199.79  \n",
              "4            NaN  \n",
              "5        2922.66  \n",
              "6        1481.42  \n",
              "7        1149.55  \n",
              "8        1046.20  \n",
              "9        2730.60  \n",
              "10       1712.82  \n",
              "11        154.31  \n",
              "12        819.08  \n",
              "13       1719.83  \n",
              "14        954.12  "
            ],
            "text/html": [
              "\n",
              "  <div id=\"df-f1e8bdcf-7b69-417f-8cc2-c94c26ddd01c\" class=\"colab-df-container\">\n",
              "    <div>\n",
              "<style scoped>\n",
              "    .dataframe tbody tr th:only-of-type {\n",
              "        vertical-align: middle;\n",
              "    }\n",
              "\n",
              "    .dataframe tbody tr th {\n",
              "        vertical-align: top;\n",
              "    }\n",
              "\n",
              "    .dataframe thead th {\n",
              "        text-align: right;\n",
              "    }\n",
              "</style>\n",
              "<table border=\"1\" class=\"dataframe\">\n",
              "  <thead>\n",
              "    <tr style=\"text-align: right;\">\n",
              "      <th></th>\n",
              "      <th>Transaction_date</th>\n",
              "      <th>Transaction_ID</th>\n",
              "      <th>Gender</th>\n",
              "      <th>Age</th>\n",
              "      <th>Marital_status</th>\n",
              "      <th>State_names</th>\n",
              "      <th>Segment</th>\n",
              "      <th>Employees_status</th>\n",
              "      <th>Payment_method</th>\n",
              "      <th>Referal</th>\n",
              "      <th>Amount_spent</th>\n",
              "    </tr>\n",
              "  </thead>\n",
              "  <tbody>\n",
              "    <tr>\n",
              "      <th>0</th>\n",
              "      <td>1/1/2019</td>\n",
              "      <td>151200</td>\n",
              "      <td>Female</td>\n",
              "      <td>19.0</td>\n",
              "      <td>Single</td>\n",
              "      <td>Kansas</td>\n",
              "      <td>Basic</td>\n",
              "      <td>Unemployment</td>\n",
              "      <td>Other</td>\n",
              "      <td>1.0</td>\n",
              "      <td>2051.36</td>\n",
              "    </tr>\n",
              "    <tr>\n",
              "      <th>1</th>\n",
              "      <td>1/1/2019</td>\n",
              "      <td>151201</td>\n",
              "      <td>Male</td>\n",
              "      <td>49.0</td>\n",
              "      <td>Single</td>\n",
              "      <td>Illinois</td>\n",
              "      <td>Basic</td>\n",
              "      <td>self-employed</td>\n",
              "      <td>Card</td>\n",
              "      <td>0.0</td>\n",
              "      <td>544.04</td>\n",
              "    </tr>\n",
              "    <tr>\n",
              "      <th>2</th>\n",
              "      <td>1/1/2019</td>\n",
              "      <td>151202</td>\n",
              "      <td>Male</td>\n",
              "      <td>63.0</td>\n",
              "      <td>Married</td>\n",
              "      <td>New Mexico</td>\n",
              "      <td>Basic</td>\n",
              "      <td>workers</td>\n",
              "      <td>PayPal</td>\n",
              "      <td>1.0</td>\n",
              "      <td>1572.60</td>\n",
              "    </tr>\n",
              "    <tr>\n",
              "      <th>3</th>\n",
              "      <td>1/1/2019</td>\n",
              "      <td>151203</td>\n",
              "      <td>NaN</td>\n",
              "      <td>18.0</td>\n",
              "      <td>Single</td>\n",
              "      <td>Virginia</td>\n",
              "      <td>Platinum</td>\n",
              "      <td>workers</td>\n",
              "      <td>Card</td>\n",
              "      <td>1.0</td>\n",
              "      <td>1199.79</td>\n",
              "    </tr>\n",
              "    <tr>\n",
              "      <th>4</th>\n",
              "      <td>1/1/2019</td>\n",
              "      <td>151204</td>\n",
              "      <td>Male</td>\n",
              "      <td>27.0</td>\n",
              "      <td>Single</td>\n",
              "      <td>Connecticut</td>\n",
              "      <td>Basic</td>\n",
              "      <td>self-employed</td>\n",
              "      <td>Card</td>\n",
              "      <td>0.0</td>\n",
              "      <td>NaN</td>\n",
              "    </tr>\n",
              "    <tr>\n",
              "      <th>5</th>\n",
              "      <td>1/3/2019</td>\n",
              "      <td>151205</td>\n",
              "      <td>Male</td>\n",
              "      <td>71.0</td>\n",
              "      <td>Single</td>\n",
              "      <td>Hawaii</td>\n",
              "      <td>Basic</td>\n",
              "      <td>Employees</td>\n",
              "      <td>PayPal</td>\n",
              "      <td>1.0</td>\n",
              "      <td>2922.66</td>\n",
              "    </tr>\n",
              "    <tr>\n",
              "      <th>6</th>\n",
              "      <td>1/3/2019</td>\n",
              "      <td>151206</td>\n",
              "      <td>Female</td>\n",
              "      <td>34.0</td>\n",
              "      <td>Married</td>\n",
              "      <td>New Mexico</td>\n",
              "      <td>Platinum</td>\n",
              "      <td>Employees</td>\n",
              "      <td>PayPal</td>\n",
              "      <td>1.0</td>\n",
              "      <td>1481.42</td>\n",
              "    </tr>\n",
              "    <tr>\n",
              "      <th>7</th>\n",
              "      <td>1/3/2019</td>\n",
              "      <td>151207</td>\n",
              "      <td>Male</td>\n",
              "      <td>37.0</td>\n",
              "      <td>Married</td>\n",
              "      <td>Connecticut</td>\n",
              "      <td>Basic</td>\n",
              "      <td>workers</td>\n",
              "      <td>PayPal</td>\n",
              "      <td>1.0</td>\n",
              "      <td>1149.55</td>\n",
              "    </tr>\n",
              "    <tr>\n",
              "      <th>8</th>\n",
              "      <td>1/4/2019</td>\n",
              "      <td>151208</td>\n",
              "      <td>Male</td>\n",
              "      <td>75.0</td>\n",
              "      <td>Married</td>\n",
              "      <td>Florida</td>\n",
              "      <td>Silver</td>\n",
              "      <td>Employees</td>\n",
              "      <td>Card</td>\n",
              "      <td>0.0</td>\n",
              "      <td>1046.20</td>\n",
              "    </tr>\n",
              "    <tr>\n",
              "      <th>9</th>\n",
              "      <td>1/4/2019</td>\n",
              "      <td>151209</td>\n",
              "      <td>Female</td>\n",
              "      <td>41.0</td>\n",
              "      <td>Married</td>\n",
              "      <td>Vermont</td>\n",
              "      <td>Gold</td>\n",
              "      <td>Unemployment</td>\n",
              "      <td>Card</td>\n",
              "      <td>1.0</td>\n",
              "      <td>2730.60</td>\n",
              "    </tr>\n",
              "    <tr>\n",
              "      <th>10</th>\n",
              "      <td>1/4/2019</td>\n",
              "      <td>151210</td>\n",
              "      <td>Female</td>\n",
              "      <td>56.0</td>\n",
              "      <td>Married</td>\n",
              "      <td>California</td>\n",
              "      <td>Basic</td>\n",
              "      <td>Employees</td>\n",
              "      <td>PayPal</td>\n",
              "      <td>0.0</td>\n",
              "      <td>1712.82</td>\n",
              "    </tr>\n",
              "    <tr>\n",
              "      <th>11</th>\n",
              "      <td>1/5/2019</td>\n",
              "      <td>151211</td>\n",
              "      <td>Female</td>\n",
              "      <td>63.0</td>\n",
              "      <td>Married</td>\n",
              "      <td>Colorado</td>\n",
              "      <td>Basic</td>\n",
              "      <td>workers</td>\n",
              "      <td>Other</td>\n",
              "      <td>1.0</td>\n",
              "      <td>154.31</td>\n",
              "    </tr>\n",
              "    <tr>\n",
              "      <th>12</th>\n",
              "      <td>1/5/2019</td>\n",
              "      <td>151212</td>\n",
              "      <td>Female</td>\n",
              "      <td>60.0</td>\n",
              "      <td>Married</td>\n",
              "      <td>Iowa</td>\n",
              "      <td>Basic</td>\n",
              "      <td>self-employed</td>\n",
              "      <td>Card</td>\n",
              "      <td>1.0</td>\n",
              "      <td>819.08</td>\n",
              "    </tr>\n",
              "    <tr>\n",
              "      <th>13</th>\n",
              "      <td>1/5/2019</td>\n",
              "      <td>151213</td>\n",
              "      <td>Male</td>\n",
              "      <td>47.0</td>\n",
              "      <td>Single</td>\n",
              "      <td>South Carolina</td>\n",
              "      <td>Basic</td>\n",
              "      <td>Employees</td>\n",
              "      <td>PayPal</td>\n",
              "      <td>1.0</td>\n",
              "      <td>1719.83</td>\n",
              "    </tr>\n",
              "    <tr>\n",
              "      <th>14</th>\n",
              "      <td>1/5/2019</td>\n",
              "      <td>151214</td>\n",
              "      <td>Male</td>\n",
              "      <td>24.0</td>\n",
              "      <td>Married</td>\n",
              "      <td>Colorado</td>\n",
              "      <td>Platinum</td>\n",
              "      <td>self-employed</td>\n",
              "      <td>Other</td>\n",
              "      <td>1.0</td>\n",
              "      <td>954.12</td>\n",
              "    </tr>\n",
              "  </tbody>\n",
              "</table>\n",
              "</div>\n",
              "    <div class=\"colab-df-buttons\">\n",
              "\n",
              "  <div class=\"colab-df-container\">\n",
              "    <button class=\"colab-df-convert\" onclick=\"convertToInteractive('df-f1e8bdcf-7b69-417f-8cc2-c94c26ddd01c')\"\n",
              "            title=\"Convert this dataframe to an interactive table.\"\n",
              "            style=\"display:none;\">\n",
              "\n",
              "  <svg xmlns=\"http://www.w3.org/2000/svg\" height=\"24px\" viewBox=\"0 -960 960 960\">\n",
              "    <path d=\"M120-120v-720h720v720H120Zm60-500h600v-160H180v160Zm220 220h160v-160H400v160Zm0 220h160v-160H400v160ZM180-400h160v-160H180v160Zm440 0h160v-160H620v160ZM180-180h160v-160H180v160Zm440 0h160v-160H620v160Z\"/>\n",
              "  </svg>\n",
              "    </button>\n",
              "\n",
              "  <style>\n",
              "    .colab-df-container {\n",
              "      display:flex;\n",
              "      gap: 12px;\n",
              "    }\n",
              "\n",
              "    .colab-df-convert {\n",
              "      background-color: #E8F0FE;\n",
              "      border: none;\n",
              "      border-radius: 50%;\n",
              "      cursor: pointer;\n",
              "      display: none;\n",
              "      fill: #1967D2;\n",
              "      height: 32px;\n",
              "      padding: 0 0 0 0;\n",
              "      width: 32px;\n",
              "    }\n",
              "\n",
              "    .colab-df-convert:hover {\n",
              "      background-color: #E2EBFA;\n",
              "      box-shadow: 0px 1px 2px rgba(60, 64, 67, 0.3), 0px 1px 3px 1px rgba(60, 64, 67, 0.15);\n",
              "      fill: #174EA6;\n",
              "    }\n",
              "\n",
              "    .colab-df-buttons div {\n",
              "      margin-bottom: 4px;\n",
              "    }\n",
              "\n",
              "    [theme=dark] .colab-df-convert {\n",
              "      background-color: #3B4455;\n",
              "      fill: #D2E3FC;\n",
              "    }\n",
              "\n",
              "    [theme=dark] .colab-df-convert:hover {\n",
              "      background-color: #434B5C;\n",
              "      box-shadow: 0px 1px 3px 1px rgba(0, 0, 0, 0.15);\n",
              "      filter: drop-shadow(0px 1px 2px rgba(0, 0, 0, 0.3));\n",
              "      fill: #FFFFFF;\n",
              "    }\n",
              "  </style>\n",
              "\n",
              "    <script>\n",
              "      const buttonEl =\n",
              "        document.querySelector('#df-f1e8bdcf-7b69-417f-8cc2-c94c26ddd01c button.colab-df-convert');\n",
              "      buttonEl.style.display =\n",
              "        google.colab.kernel.accessAllowed ? 'block' : 'none';\n",
              "\n",
              "      async function convertToInteractive(key) {\n",
              "        const element = document.querySelector('#df-f1e8bdcf-7b69-417f-8cc2-c94c26ddd01c');\n",
              "        const dataTable =\n",
              "          await google.colab.kernel.invokeFunction('convertToInteractive',\n",
              "                                                    [key], {});\n",
              "        if (!dataTable) return;\n",
              "\n",
              "        const docLinkHtml = 'Like what you see? Visit the ' +\n",
              "          '<a target=\"_blank\" href=https://colab.research.google.com/notebooks/data_table.ipynb>data table notebook</a>'\n",
              "          + ' to learn more about interactive tables.';\n",
              "        element.innerHTML = '';\n",
              "        dataTable['output_type'] = 'display_data';\n",
              "        await google.colab.output.renderOutput(dataTable, element);\n",
              "        const docLink = document.createElement('div');\n",
              "        docLink.innerHTML = docLinkHtml;\n",
              "        element.appendChild(docLink);\n",
              "      }\n",
              "    </script>\n",
              "  </div>\n",
              "\n",
              "\n",
              "    <div id=\"df-1053f059-91aa-4902-8c63-747de57ccf56\">\n",
              "      <button class=\"colab-df-quickchart\" onclick=\"quickchart('df-1053f059-91aa-4902-8c63-747de57ccf56')\"\n",
              "                title=\"Suggest charts\"\n",
              "                style=\"display:none;\">\n",
              "\n",
              "<svg xmlns=\"http://www.w3.org/2000/svg\" height=\"24px\"viewBox=\"0 0 24 24\"\n",
              "     width=\"24px\">\n",
              "    <g>\n",
              "        <path d=\"M19 3H5c-1.1 0-2 .9-2 2v14c0 1.1.9 2 2 2h14c1.1 0 2-.9 2-2V5c0-1.1-.9-2-2-2zM9 17H7v-7h2v7zm4 0h-2V7h2v10zm4 0h-2v-4h2v4z\"/>\n",
              "    </g>\n",
              "</svg>\n",
              "      </button>\n",
              "\n",
              "<style>\n",
              "  .colab-df-quickchart {\n",
              "      --bg-color: #E8F0FE;\n",
              "      --fill-color: #1967D2;\n",
              "      --hover-bg-color: #E2EBFA;\n",
              "      --hover-fill-color: #174EA6;\n",
              "      --disabled-fill-color: #AAA;\n",
              "      --disabled-bg-color: #DDD;\n",
              "  }\n",
              "\n",
              "  [theme=dark] .colab-df-quickchart {\n",
              "      --bg-color: #3B4455;\n",
              "      --fill-color: #D2E3FC;\n",
              "      --hover-bg-color: #434B5C;\n",
              "      --hover-fill-color: #FFFFFF;\n",
              "      --disabled-bg-color: #3B4455;\n",
              "      --disabled-fill-color: #666;\n",
              "  }\n",
              "\n",
              "  .colab-df-quickchart {\n",
              "    background-color: var(--bg-color);\n",
              "    border: none;\n",
              "    border-radius: 50%;\n",
              "    cursor: pointer;\n",
              "    display: none;\n",
              "    fill: var(--fill-color);\n",
              "    height: 32px;\n",
              "    padding: 0;\n",
              "    width: 32px;\n",
              "  }\n",
              "\n",
              "  .colab-df-quickchart:hover {\n",
              "    background-color: var(--hover-bg-color);\n",
              "    box-shadow: 0 1px 2px rgba(60, 64, 67, 0.3), 0 1px 3px 1px rgba(60, 64, 67, 0.15);\n",
              "    fill: var(--button-hover-fill-color);\n",
              "  }\n",
              "\n",
              "  .colab-df-quickchart-complete:disabled,\n",
              "  .colab-df-quickchart-complete:disabled:hover {\n",
              "    background-color: var(--disabled-bg-color);\n",
              "    fill: var(--disabled-fill-color);\n",
              "    box-shadow: none;\n",
              "  }\n",
              "\n",
              "  .colab-df-spinner {\n",
              "    border: 2px solid var(--fill-color);\n",
              "    border-color: transparent;\n",
              "    border-bottom-color: var(--fill-color);\n",
              "    animation:\n",
              "      spin 1s steps(1) infinite;\n",
              "  }\n",
              "\n",
              "  @keyframes spin {\n",
              "    0% {\n",
              "      border-color: transparent;\n",
              "      border-bottom-color: var(--fill-color);\n",
              "      border-left-color: var(--fill-color);\n",
              "    }\n",
              "    20% {\n",
              "      border-color: transparent;\n",
              "      border-left-color: var(--fill-color);\n",
              "      border-top-color: var(--fill-color);\n",
              "    }\n",
              "    30% {\n",
              "      border-color: transparent;\n",
              "      border-left-color: var(--fill-color);\n",
              "      border-top-color: var(--fill-color);\n",
              "      border-right-color: var(--fill-color);\n",
              "    }\n",
              "    40% {\n",
              "      border-color: transparent;\n",
              "      border-right-color: var(--fill-color);\n",
              "      border-top-color: var(--fill-color);\n",
              "    }\n",
              "    60% {\n",
              "      border-color: transparent;\n",
              "      border-right-color: var(--fill-color);\n",
              "    }\n",
              "    80% {\n",
              "      border-color: transparent;\n",
              "      border-right-color: var(--fill-color);\n",
              "      border-bottom-color: var(--fill-color);\n",
              "    }\n",
              "    90% {\n",
              "      border-color: transparent;\n",
              "      border-bottom-color: var(--fill-color);\n",
              "    }\n",
              "  }\n",
              "</style>\n",
              "\n",
              "      <script>\n",
              "        async function quickchart(key) {\n",
              "          const quickchartButtonEl =\n",
              "            document.querySelector('#' + key + ' button');\n",
              "          quickchartButtonEl.disabled = true;  // To prevent multiple clicks.\n",
              "          quickchartButtonEl.classList.add('colab-df-spinner');\n",
              "          try {\n",
              "            const charts = await google.colab.kernel.invokeFunction(\n",
              "                'suggestCharts', [key], {});\n",
              "          } catch (error) {\n",
              "            console.error('Error during call to suggestCharts:', error);\n",
              "          }\n",
              "          quickchartButtonEl.classList.remove('colab-df-spinner');\n",
              "          quickchartButtonEl.classList.add('colab-df-quickchart-complete');\n",
              "        }\n",
              "        (() => {\n",
              "          let quickchartButtonEl =\n",
              "            document.querySelector('#df-1053f059-91aa-4902-8c63-747de57ccf56 button');\n",
              "          quickchartButtonEl.style.display =\n",
              "            google.colab.kernel.accessAllowed ? 'block' : 'none';\n",
              "        })();\n",
              "      </script>\n",
              "    </div>\n",
              "\n",
              "    </div>\n",
              "  </div>\n"
            ],
            "application/vnd.google.colaboratory.intrinsic+json": {
              "type": "dataframe",
              "variable_name": "df",
              "summary": "{\n  \"name\": \"df\",\n  \"rows\": 2512,\n  \"fields\": [\n    {\n      \"column\": \"Transaction_date\",\n      \"properties\": {\n        \"dtype\": \"object\",\n        \"num_unique_values\": 810,\n        \"samples\": [\n          \"9/13/2019\",\n          \"12/7/2020\",\n          \"8/23/2019\"\n        ],\n        \"semantic_type\": \"\",\n        \"description\": \"\"\n      }\n    },\n    {\n      \"column\": \"Transaction_ID\",\n      \"properties\": {\n        \"dtype\": \"number\",\n        \"std\": 724,\n        \"min\": 151200,\n        \"max\": 153699,\n        \"num_unique_values\": 2500,\n        \"samples\": [\n          152647,\n          152314,\n          152264\n        ],\n        \"semantic_type\": \"\",\n        \"description\": \"\"\n      }\n    },\n    {\n      \"column\": \"Gender\",\n      \"properties\": {\n        \"dtype\": \"category\",\n        \"num_unique_values\": 2,\n        \"samples\": [\n          \"Male\",\n          \"Female\"\n        ],\n        \"semantic_type\": \"\",\n        \"description\": \"\"\n      }\n    },\n    {\n      \"column\": \"Age\",\n      \"properties\": {\n        \"dtype\": \"number\",\n        \"std\": 18.186276792698028,\n        \"min\": 15.0,\n        \"max\": 78.0,\n        \"num_unique_values\": 63,\n        \"samples\": [\n          44.0,\n          36.0\n        ],\n        \"semantic_type\": \"\",\n        \"description\": \"\"\n      }\n    },\n    {\n      \"column\": \"Marital_status\",\n      \"properties\": {\n        \"dtype\": \"category\",\n        \"num_unique_values\": 2,\n        \"samples\": [\n          \"Married\",\n          \"Single\"\n        ],\n        \"semantic_type\": \"\",\n        \"description\": \"\"\n      }\n    },\n    {\n      \"column\": \"State_names\",\n      \"properties\": {\n        \"dtype\": \"category\",\n        \"num_unique_values\": 50,\n        \"samples\": [\n          \"Maine\",\n          \"Nevada\"\n        ],\n        \"semantic_type\": \"\",\n        \"description\": \"\"\n      }\n    },\n    {\n      \"column\": \"Segment\",\n      \"properties\": {\n        \"dtype\": \"category\",\n        \"num_unique_values\": 5,\n        \"samples\": [\n          \"Platinum\",\n          \"Missing\"\n        ],\n        \"semantic_type\": \"\",\n        \"description\": \"\"\n      }\n    },\n    {\n      \"column\": \"Employees_status\",\n      \"properties\": {\n        \"dtype\": \"category\",\n        \"num_unique_values\": 4,\n        \"samples\": [\n          \"self-employed\",\n          \"Employees\"\n        ],\n        \"semantic_type\": \"\",\n        \"description\": \"\"\n      }\n    },\n    {\n      \"column\": \"Payment_method\",\n      \"properties\": {\n        \"dtype\": \"category\",\n        \"num_unique_values\": 3,\n        \"samples\": [\n          \"Other\",\n          \"Card\"\n        ],\n        \"semantic_type\": \"\",\n        \"description\": \"\"\n      }\n    },\n    {\n      \"column\": \"Referal\",\n      \"properties\": {\n        \"dtype\": \"number\",\n        \"std\": 0.47640512587512013,\n        \"min\": 0.0,\n        \"max\": 1.0,\n        \"num_unique_values\": 2,\n        \"samples\": [\n          0.0,\n          1.0\n        ],\n        \"semantic_type\": \"\",\n        \"description\": \"\"\n      }\n    },\n    {\n      \"column\": \"Amount_spent\",\n      \"properties\": {\n        \"dtype\": \"number\",\n        \"std\": 878.5074511512466,\n        \"min\": 2.09,\n        \"max\": 2999.98,\n        \"num_unique_values\": 2250,\n        \"samples\": [\n          635.17,\n          675.92\n        ],\n        \"semantic_type\": \"\",\n        \"description\": \"\"\n      }\n    }\n  ]\n}"
            }
          },
          "metadata": {},
          "execution_count": 17
        }
      ],
      "source": [
        "# read csv file\n",
        "\n",
        "df = pd.read_csv('online_store_customer_data.csv')\n",
        "\n",
        "df.head(15)"
      ]
    },
    {
      "cell_type": "code",
      "source": [
        "df.tail(5)"
      ],
      "metadata": {
        "colab": {
          "base_uri": "https://localhost:8080/",
          "height": 261
        },
        "id": "FVjKUDT32bSJ",
        "outputId": "190200b9-f3c6-4026-b2fb-f5d26280bb74"
      },
      "id": "FVjKUDT32bSJ",
      "execution_count": 18,
      "outputs": [
        {
          "output_type": "execute_result",
          "data": {
            "text/plain": [
              "     Transaction_date  Transaction_ID  Gender   Age Marital_status  \\\n",
              "2507         5/1/2021          153695  Female  57.0         Single   \n",
              "2508         5/1/2021          153696  Female  36.0        Married   \n",
              "2509         5/1/2021          153697    Male  22.0         Single   \n",
              "2510         5/1/2021          153698     NaN  44.0         Single   \n",
              "2511         5/1/2021          153699    Male  48.0         Single   \n",
              "\n",
              "         State_names   Segment Employees_status Payment_method  Referal  \\\n",
              "2507  South Carolina  Platinum    self-employed           Card      0.0   \n",
              "2508          Hawaii    Silver    self-employed         PayPal      1.0   \n",
              "2509  South Carolina     Basic          workers         PayPal      1.0   \n",
              "2510        New York     Basic        Employees         PayPal      0.0   \n",
              "2511      California    Silver          workers         PayPal      1.0   \n",
              "\n",
              "      Amount_spent  \n",
              "2507        150.10  \n",
              "2508        708.88  \n",
              "2509       2030.07  \n",
              "2510       1909.77  \n",
              "2511       1073.15  "
            ],
            "text/html": [
              "\n",
              "  <div id=\"df-ab8e6e3e-285c-44c5-be23-1ac9dde2f02f\" class=\"colab-df-container\">\n",
              "    <div>\n",
              "<style scoped>\n",
              "    .dataframe tbody tr th:only-of-type {\n",
              "        vertical-align: middle;\n",
              "    }\n",
              "\n",
              "    .dataframe tbody tr th {\n",
              "        vertical-align: top;\n",
              "    }\n",
              "\n",
              "    .dataframe thead th {\n",
              "        text-align: right;\n",
              "    }\n",
              "</style>\n",
              "<table border=\"1\" class=\"dataframe\">\n",
              "  <thead>\n",
              "    <tr style=\"text-align: right;\">\n",
              "      <th></th>\n",
              "      <th>Transaction_date</th>\n",
              "      <th>Transaction_ID</th>\n",
              "      <th>Gender</th>\n",
              "      <th>Age</th>\n",
              "      <th>Marital_status</th>\n",
              "      <th>State_names</th>\n",
              "      <th>Segment</th>\n",
              "      <th>Employees_status</th>\n",
              "      <th>Payment_method</th>\n",
              "      <th>Referal</th>\n",
              "      <th>Amount_spent</th>\n",
              "    </tr>\n",
              "  </thead>\n",
              "  <tbody>\n",
              "    <tr>\n",
              "      <th>2507</th>\n",
              "      <td>5/1/2021</td>\n",
              "      <td>153695</td>\n",
              "      <td>Female</td>\n",
              "      <td>57.0</td>\n",
              "      <td>Single</td>\n",
              "      <td>South Carolina</td>\n",
              "      <td>Platinum</td>\n",
              "      <td>self-employed</td>\n",
              "      <td>Card</td>\n",
              "      <td>0.0</td>\n",
              "      <td>150.10</td>\n",
              "    </tr>\n",
              "    <tr>\n",
              "      <th>2508</th>\n",
              "      <td>5/1/2021</td>\n",
              "      <td>153696</td>\n",
              "      <td>Female</td>\n",
              "      <td>36.0</td>\n",
              "      <td>Married</td>\n",
              "      <td>Hawaii</td>\n",
              "      <td>Silver</td>\n",
              "      <td>self-employed</td>\n",
              "      <td>PayPal</td>\n",
              "      <td>1.0</td>\n",
              "      <td>708.88</td>\n",
              "    </tr>\n",
              "    <tr>\n",
              "      <th>2509</th>\n",
              "      <td>5/1/2021</td>\n",
              "      <td>153697</td>\n",
              "      <td>Male</td>\n",
              "      <td>22.0</td>\n",
              "      <td>Single</td>\n",
              "      <td>South Carolina</td>\n",
              "      <td>Basic</td>\n",
              "      <td>workers</td>\n",
              "      <td>PayPal</td>\n",
              "      <td>1.0</td>\n",
              "      <td>2030.07</td>\n",
              "    </tr>\n",
              "    <tr>\n",
              "      <th>2510</th>\n",
              "      <td>5/1/2021</td>\n",
              "      <td>153698</td>\n",
              "      <td>NaN</td>\n",
              "      <td>44.0</td>\n",
              "      <td>Single</td>\n",
              "      <td>New York</td>\n",
              "      <td>Basic</td>\n",
              "      <td>Employees</td>\n",
              "      <td>PayPal</td>\n",
              "      <td>0.0</td>\n",
              "      <td>1909.77</td>\n",
              "    </tr>\n",
              "    <tr>\n",
              "      <th>2511</th>\n",
              "      <td>5/1/2021</td>\n",
              "      <td>153699</td>\n",
              "      <td>Male</td>\n",
              "      <td>48.0</td>\n",
              "      <td>Single</td>\n",
              "      <td>California</td>\n",
              "      <td>Silver</td>\n",
              "      <td>workers</td>\n",
              "      <td>PayPal</td>\n",
              "      <td>1.0</td>\n",
              "      <td>1073.15</td>\n",
              "    </tr>\n",
              "  </tbody>\n",
              "</table>\n",
              "</div>\n",
              "    <div class=\"colab-df-buttons\">\n",
              "\n",
              "  <div class=\"colab-df-container\">\n",
              "    <button class=\"colab-df-convert\" onclick=\"convertToInteractive('df-ab8e6e3e-285c-44c5-be23-1ac9dde2f02f')\"\n",
              "            title=\"Convert this dataframe to an interactive table.\"\n",
              "            style=\"display:none;\">\n",
              "\n",
              "  <svg xmlns=\"http://www.w3.org/2000/svg\" height=\"24px\" viewBox=\"0 -960 960 960\">\n",
              "    <path d=\"M120-120v-720h720v720H120Zm60-500h600v-160H180v160Zm220 220h160v-160H400v160Zm0 220h160v-160H400v160ZM180-400h160v-160H180v160Zm440 0h160v-160H620v160ZM180-180h160v-160H180v160Zm440 0h160v-160H620v160Z\"/>\n",
              "  </svg>\n",
              "    </button>\n",
              "\n",
              "  <style>\n",
              "    .colab-df-container {\n",
              "      display:flex;\n",
              "      gap: 12px;\n",
              "    }\n",
              "\n",
              "    .colab-df-convert {\n",
              "      background-color: #E8F0FE;\n",
              "      border: none;\n",
              "      border-radius: 50%;\n",
              "      cursor: pointer;\n",
              "      display: none;\n",
              "      fill: #1967D2;\n",
              "      height: 32px;\n",
              "      padding: 0 0 0 0;\n",
              "      width: 32px;\n",
              "    }\n",
              "\n",
              "    .colab-df-convert:hover {\n",
              "      background-color: #E2EBFA;\n",
              "      box-shadow: 0px 1px 2px rgba(60, 64, 67, 0.3), 0px 1px 3px 1px rgba(60, 64, 67, 0.15);\n",
              "      fill: #174EA6;\n",
              "    }\n",
              "\n",
              "    .colab-df-buttons div {\n",
              "      margin-bottom: 4px;\n",
              "    }\n",
              "\n",
              "    [theme=dark] .colab-df-convert {\n",
              "      background-color: #3B4455;\n",
              "      fill: #D2E3FC;\n",
              "    }\n",
              "\n",
              "    [theme=dark] .colab-df-convert:hover {\n",
              "      background-color: #434B5C;\n",
              "      box-shadow: 0px 1px 3px 1px rgba(0, 0, 0, 0.15);\n",
              "      filter: drop-shadow(0px 1px 2px rgba(0, 0, 0, 0.3));\n",
              "      fill: #FFFFFF;\n",
              "    }\n",
              "  </style>\n",
              "\n",
              "    <script>\n",
              "      const buttonEl =\n",
              "        document.querySelector('#df-ab8e6e3e-285c-44c5-be23-1ac9dde2f02f button.colab-df-convert');\n",
              "      buttonEl.style.display =\n",
              "        google.colab.kernel.accessAllowed ? 'block' : 'none';\n",
              "\n",
              "      async function convertToInteractive(key) {\n",
              "        const element = document.querySelector('#df-ab8e6e3e-285c-44c5-be23-1ac9dde2f02f');\n",
              "        const dataTable =\n",
              "          await google.colab.kernel.invokeFunction('convertToInteractive',\n",
              "                                                    [key], {});\n",
              "        if (!dataTable) return;\n",
              "\n",
              "        const docLinkHtml = 'Like what you see? Visit the ' +\n",
              "          '<a target=\"_blank\" href=https://colab.research.google.com/notebooks/data_table.ipynb>data table notebook</a>'\n",
              "          + ' to learn more about interactive tables.';\n",
              "        element.innerHTML = '';\n",
              "        dataTable['output_type'] = 'display_data';\n",
              "        await google.colab.output.renderOutput(dataTable, element);\n",
              "        const docLink = document.createElement('div');\n",
              "        docLink.innerHTML = docLinkHtml;\n",
              "        element.appendChild(docLink);\n",
              "      }\n",
              "    </script>\n",
              "  </div>\n",
              "\n",
              "\n",
              "    <div id=\"df-8ce10c16-220c-4e03-9012-79ea8fdb0f3f\">\n",
              "      <button class=\"colab-df-quickchart\" onclick=\"quickchart('df-8ce10c16-220c-4e03-9012-79ea8fdb0f3f')\"\n",
              "                title=\"Suggest charts\"\n",
              "                style=\"display:none;\">\n",
              "\n",
              "<svg xmlns=\"http://www.w3.org/2000/svg\" height=\"24px\"viewBox=\"0 0 24 24\"\n",
              "     width=\"24px\">\n",
              "    <g>\n",
              "        <path d=\"M19 3H5c-1.1 0-2 .9-2 2v14c0 1.1.9 2 2 2h14c1.1 0 2-.9 2-2V5c0-1.1-.9-2-2-2zM9 17H7v-7h2v7zm4 0h-2V7h2v10zm4 0h-2v-4h2v4z\"/>\n",
              "    </g>\n",
              "</svg>\n",
              "      </button>\n",
              "\n",
              "<style>\n",
              "  .colab-df-quickchart {\n",
              "      --bg-color: #E8F0FE;\n",
              "      --fill-color: #1967D2;\n",
              "      --hover-bg-color: #E2EBFA;\n",
              "      --hover-fill-color: #174EA6;\n",
              "      --disabled-fill-color: #AAA;\n",
              "      --disabled-bg-color: #DDD;\n",
              "  }\n",
              "\n",
              "  [theme=dark] .colab-df-quickchart {\n",
              "      --bg-color: #3B4455;\n",
              "      --fill-color: #D2E3FC;\n",
              "      --hover-bg-color: #434B5C;\n",
              "      --hover-fill-color: #FFFFFF;\n",
              "      --disabled-bg-color: #3B4455;\n",
              "      --disabled-fill-color: #666;\n",
              "  }\n",
              "\n",
              "  .colab-df-quickchart {\n",
              "    background-color: var(--bg-color);\n",
              "    border: none;\n",
              "    border-radius: 50%;\n",
              "    cursor: pointer;\n",
              "    display: none;\n",
              "    fill: var(--fill-color);\n",
              "    height: 32px;\n",
              "    padding: 0;\n",
              "    width: 32px;\n",
              "  }\n",
              "\n",
              "  .colab-df-quickchart:hover {\n",
              "    background-color: var(--hover-bg-color);\n",
              "    box-shadow: 0 1px 2px rgba(60, 64, 67, 0.3), 0 1px 3px 1px rgba(60, 64, 67, 0.15);\n",
              "    fill: var(--button-hover-fill-color);\n",
              "  }\n",
              "\n",
              "  .colab-df-quickchart-complete:disabled,\n",
              "  .colab-df-quickchart-complete:disabled:hover {\n",
              "    background-color: var(--disabled-bg-color);\n",
              "    fill: var(--disabled-fill-color);\n",
              "    box-shadow: none;\n",
              "  }\n",
              "\n",
              "  .colab-df-spinner {\n",
              "    border: 2px solid var(--fill-color);\n",
              "    border-color: transparent;\n",
              "    border-bottom-color: var(--fill-color);\n",
              "    animation:\n",
              "      spin 1s steps(1) infinite;\n",
              "  }\n",
              "\n",
              "  @keyframes spin {\n",
              "    0% {\n",
              "      border-color: transparent;\n",
              "      border-bottom-color: var(--fill-color);\n",
              "      border-left-color: var(--fill-color);\n",
              "    }\n",
              "    20% {\n",
              "      border-color: transparent;\n",
              "      border-left-color: var(--fill-color);\n",
              "      border-top-color: var(--fill-color);\n",
              "    }\n",
              "    30% {\n",
              "      border-color: transparent;\n",
              "      border-left-color: var(--fill-color);\n",
              "      border-top-color: var(--fill-color);\n",
              "      border-right-color: var(--fill-color);\n",
              "    }\n",
              "    40% {\n",
              "      border-color: transparent;\n",
              "      border-right-color: var(--fill-color);\n",
              "      border-top-color: var(--fill-color);\n",
              "    }\n",
              "    60% {\n",
              "      border-color: transparent;\n",
              "      border-right-color: var(--fill-color);\n",
              "    }\n",
              "    80% {\n",
              "      border-color: transparent;\n",
              "      border-right-color: var(--fill-color);\n",
              "      border-bottom-color: var(--fill-color);\n",
              "    }\n",
              "    90% {\n",
              "      border-color: transparent;\n",
              "      border-bottom-color: var(--fill-color);\n",
              "    }\n",
              "  }\n",
              "</style>\n",
              "\n",
              "      <script>\n",
              "        async function quickchart(key) {\n",
              "          const quickchartButtonEl =\n",
              "            document.querySelector('#' + key + ' button');\n",
              "          quickchartButtonEl.disabled = true;  // To prevent multiple clicks.\n",
              "          quickchartButtonEl.classList.add('colab-df-spinner');\n",
              "          try {\n",
              "            const charts = await google.colab.kernel.invokeFunction(\n",
              "                'suggestCharts', [key], {});\n",
              "          } catch (error) {\n",
              "            console.error('Error during call to suggestCharts:', error);\n",
              "          }\n",
              "          quickchartButtonEl.classList.remove('colab-df-spinner');\n",
              "          quickchartButtonEl.classList.add('colab-df-quickchart-complete');\n",
              "        }\n",
              "        (() => {\n",
              "          let quickchartButtonEl =\n",
              "            document.querySelector('#df-8ce10c16-220c-4e03-9012-79ea8fdb0f3f button');\n",
              "          quickchartButtonEl.style.display =\n",
              "            google.colab.kernel.accessAllowed ? 'block' : 'none';\n",
              "        })();\n",
              "      </script>\n",
              "    </div>\n",
              "\n",
              "    </div>\n",
              "  </div>\n"
            ],
            "application/vnd.google.colaboratory.intrinsic+json": {
              "type": "dataframe",
              "repr_error": "0"
            }
          },
          "metadata": {},
          "execution_count": 18
        }
      ]
    },
    {
      "cell_type": "code",
      "execution_count": 19,
      "id": "jNRVw6Xk_zGE",
      "metadata": {
        "colab": {
          "base_uri": "https://localhost:8080/",
          "height": 677
        },
        "id": "jNRVw6Xk_zGE",
        "outputId": "f98a1d2b-898c-45ce-c234-afe311fac260"
      },
      "outputs": [
        {
          "output_type": "execute_result",
          "data": {
            "text/plain": [
              "          0       1       2     3        4               5         6   \\\n",
              "0   1/1/2019  151201    Male  49.0   Single        Illinois     Basic   \n",
              "1   1/1/2019  151202    Male  63.0  Married      New Mexico     Basic   \n",
              "2   1/1/2019  151203     NaN  18.0   Single        Virginia  Platinum   \n",
              "3   1/1/2019  151204    Male  27.0   Single     Connecticut     Basic   \n",
              "4   1/3/2019  151205    Male  71.0   Single          Hawaii     Basic   \n",
              "5   1/3/2019  151206  Female  34.0  Married      New Mexico  Platinum   \n",
              "6   1/3/2019  151207    Male  37.0  Married     Connecticut     Basic   \n",
              "7   1/4/2019  151208    Male  75.0  Married         Florida    Silver   \n",
              "8   1/4/2019  151209  Female  41.0  Married         Vermont      Gold   \n",
              "9   1/4/2019  151210  Female  56.0  Married      California     Basic   \n",
              "10  1/5/2019  151211  Female  63.0  Married        Colorado     Basic   \n",
              "11  1/5/2019  151212  Female  60.0  Married            Iowa     Basic   \n",
              "12  1/5/2019  151213    Male  47.0   Single  South Carolina     Basic   \n",
              "13  1/5/2019  151214    Male  24.0  Married        Colorado  Platinum   \n",
              "14  1/6/2019  151215    Male  16.0   Single        New York  Platinum   \n",
              "15  1/6/2019  151216  Female  72.0  Married           Maine    Silver   \n",
              "16  1/7/2019  151217  Female  77.0  Married      New Mexico  Platinum   \n",
              "17  1/7/2019  151218    Male  42.0  Married        Maryland     Basic   \n",
              "18  1/8/2019  151219  Female  46.0  Married        Missouri     Basic   \n",
              "19  1/8/2019  151220  Female  19.0  Married          Hawaii   Missing   \n",
              "\n",
              "               7       8    9        10  \n",
              "0   self-employed    Card  0.0   544.04  \n",
              "1         workers  PayPal  1.0  1572.60  \n",
              "2         workers    Card  1.0  1199.79  \n",
              "3   self-employed    Card  0.0      NaN  \n",
              "4       Employees  PayPal  1.0  2922.66  \n",
              "5       Employees  PayPal  1.0  1481.42  \n",
              "6         workers  PayPal  1.0  1149.55  \n",
              "7       Employees    Card  0.0  1046.20  \n",
              "8    Unemployment    Card  1.0  2730.60  \n",
              "9       Employees  PayPal  0.0  1712.82  \n",
              "10        workers   Other  1.0   154.31  \n",
              "11  self-employed    Card  1.0   819.08  \n",
              "12      Employees  PayPal  1.0  1719.83  \n",
              "13  self-employed   Other  1.0   954.12  \n",
              "14        workers   Other  1.0  1005.92  \n",
              "15  self-employed  PayPal  1.0  2882.77  \n",
              "16        workers    Card  0.0  2999.98  \n",
              "17  self-employed   Other  0.0  1902.73  \n",
              "18      Employees    Card  1.0  2968.95  \n",
              "19        workers  PayPal  0.0      NaN  "
            ],
            "text/html": [
              "\n",
              "  <div id=\"df-5890690d-0952-4b2a-b79d-841b5ab4666f\" class=\"colab-df-container\">\n",
              "    <div>\n",
              "<style scoped>\n",
              "    .dataframe tbody tr th:only-of-type {\n",
              "        vertical-align: middle;\n",
              "    }\n",
              "\n",
              "    .dataframe tbody tr th {\n",
              "        vertical-align: top;\n",
              "    }\n",
              "\n",
              "    .dataframe thead th {\n",
              "        text-align: right;\n",
              "    }\n",
              "</style>\n",
              "<table border=\"1\" class=\"dataframe\">\n",
              "  <thead>\n",
              "    <tr style=\"text-align: right;\">\n",
              "      <th></th>\n",
              "      <th>0</th>\n",
              "      <th>1</th>\n",
              "      <th>2</th>\n",
              "      <th>3</th>\n",
              "      <th>4</th>\n",
              "      <th>5</th>\n",
              "      <th>6</th>\n",
              "      <th>7</th>\n",
              "      <th>8</th>\n",
              "      <th>9</th>\n",
              "      <th>10</th>\n",
              "    </tr>\n",
              "  </thead>\n",
              "  <tbody>\n",
              "    <tr>\n",
              "      <th>0</th>\n",
              "      <td>1/1/2019</td>\n",
              "      <td>151201</td>\n",
              "      <td>Male</td>\n",
              "      <td>49.0</td>\n",
              "      <td>Single</td>\n",
              "      <td>Illinois</td>\n",
              "      <td>Basic</td>\n",
              "      <td>self-employed</td>\n",
              "      <td>Card</td>\n",
              "      <td>0.0</td>\n",
              "      <td>544.04</td>\n",
              "    </tr>\n",
              "    <tr>\n",
              "      <th>1</th>\n",
              "      <td>1/1/2019</td>\n",
              "      <td>151202</td>\n",
              "      <td>Male</td>\n",
              "      <td>63.0</td>\n",
              "      <td>Married</td>\n",
              "      <td>New Mexico</td>\n",
              "      <td>Basic</td>\n",
              "      <td>workers</td>\n",
              "      <td>PayPal</td>\n",
              "      <td>1.0</td>\n",
              "      <td>1572.60</td>\n",
              "    </tr>\n",
              "    <tr>\n",
              "      <th>2</th>\n",
              "      <td>1/1/2019</td>\n",
              "      <td>151203</td>\n",
              "      <td>NaN</td>\n",
              "      <td>18.0</td>\n",
              "      <td>Single</td>\n",
              "      <td>Virginia</td>\n",
              "      <td>Platinum</td>\n",
              "      <td>workers</td>\n",
              "      <td>Card</td>\n",
              "      <td>1.0</td>\n",
              "      <td>1199.79</td>\n",
              "    </tr>\n",
              "    <tr>\n",
              "      <th>3</th>\n",
              "      <td>1/1/2019</td>\n",
              "      <td>151204</td>\n",
              "      <td>Male</td>\n",
              "      <td>27.0</td>\n",
              "      <td>Single</td>\n",
              "      <td>Connecticut</td>\n",
              "      <td>Basic</td>\n",
              "      <td>self-employed</td>\n",
              "      <td>Card</td>\n",
              "      <td>0.0</td>\n",
              "      <td>NaN</td>\n",
              "    </tr>\n",
              "    <tr>\n",
              "      <th>4</th>\n",
              "      <td>1/3/2019</td>\n",
              "      <td>151205</td>\n",
              "      <td>Male</td>\n",
              "      <td>71.0</td>\n",
              "      <td>Single</td>\n",
              "      <td>Hawaii</td>\n",
              "      <td>Basic</td>\n",
              "      <td>Employees</td>\n",
              "      <td>PayPal</td>\n",
              "      <td>1.0</td>\n",
              "      <td>2922.66</td>\n",
              "    </tr>\n",
              "    <tr>\n",
              "      <th>5</th>\n",
              "      <td>1/3/2019</td>\n",
              "      <td>151206</td>\n",
              "      <td>Female</td>\n",
              "      <td>34.0</td>\n",
              "      <td>Married</td>\n",
              "      <td>New Mexico</td>\n",
              "      <td>Platinum</td>\n",
              "      <td>Employees</td>\n",
              "      <td>PayPal</td>\n",
              "      <td>1.0</td>\n",
              "      <td>1481.42</td>\n",
              "    </tr>\n",
              "    <tr>\n",
              "      <th>6</th>\n",
              "      <td>1/3/2019</td>\n",
              "      <td>151207</td>\n",
              "      <td>Male</td>\n",
              "      <td>37.0</td>\n",
              "      <td>Married</td>\n",
              "      <td>Connecticut</td>\n",
              "      <td>Basic</td>\n",
              "      <td>workers</td>\n",
              "      <td>PayPal</td>\n",
              "      <td>1.0</td>\n",
              "      <td>1149.55</td>\n",
              "    </tr>\n",
              "    <tr>\n",
              "      <th>7</th>\n",
              "      <td>1/4/2019</td>\n",
              "      <td>151208</td>\n",
              "      <td>Male</td>\n",
              "      <td>75.0</td>\n",
              "      <td>Married</td>\n",
              "      <td>Florida</td>\n",
              "      <td>Silver</td>\n",
              "      <td>Employees</td>\n",
              "      <td>Card</td>\n",
              "      <td>0.0</td>\n",
              "      <td>1046.20</td>\n",
              "    </tr>\n",
              "    <tr>\n",
              "      <th>8</th>\n",
              "      <td>1/4/2019</td>\n",
              "      <td>151209</td>\n",
              "      <td>Female</td>\n",
              "      <td>41.0</td>\n",
              "      <td>Married</td>\n",
              "      <td>Vermont</td>\n",
              "      <td>Gold</td>\n",
              "      <td>Unemployment</td>\n",
              "      <td>Card</td>\n",
              "      <td>1.0</td>\n",
              "      <td>2730.60</td>\n",
              "    </tr>\n",
              "    <tr>\n",
              "      <th>9</th>\n",
              "      <td>1/4/2019</td>\n",
              "      <td>151210</td>\n",
              "      <td>Female</td>\n",
              "      <td>56.0</td>\n",
              "      <td>Married</td>\n",
              "      <td>California</td>\n",
              "      <td>Basic</td>\n",
              "      <td>Employees</td>\n",
              "      <td>PayPal</td>\n",
              "      <td>0.0</td>\n",
              "      <td>1712.82</td>\n",
              "    </tr>\n",
              "    <tr>\n",
              "      <th>10</th>\n",
              "      <td>1/5/2019</td>\n",
              "      <td>151211</td>\n",
              "      <td>Female</td>\n",
              "      <td>63.0</td>\n",
              "      <td>Married</td>\n",
              "      <td>Colorado</td>\n",
              "      <td>Basic</td>\n",
              "      <td>workers</td>\n",
              "      <td>Other</td>\n",
              "      <td>1.0</td>\n",
              "      <td>154.31</td>\n",
              "    </tr>\n",
              "    <tr>\n",
              "      <th>11</th>\n",
              "      <td>1/5/2019</td>\n",
              "      <td>151212</td>\n",
              "      <td>Female</td>\n",
              "      <td>60.0</td>\n",
              "      <td>Married</td>\n",
              "      <td>Iowa</td>\n",
              "      <td>Basic</td>\n",
              "      <td>self-employed</td>\n",
              "      <td>Card</td>\n",
              "      <td>1.0</td>\n",
              "      <td>819.08</td>\n",
              "    </tr>\n",
              "    <tr>\n",
              "      <th>12</th>\n",
              "      <td>1/5/2019</td>\n",
              "      <td>151213</td>\n",
              "      <td>Male</td>\n",
              "      <td>47.0</td>\n",
              "      <td>Single</td>\n",
              "      <td>South Carolina</td>\n",
              "      <td>Basic</td>\n",
              "      <td>Employees</td>\n",
              "      <td>PayPal</td>\n",
              "      <td>1.0</td>\n",
              "      <td>1719.83</td>\n",
              "    </tr>\n",
              "    <tr>\n",
              "      <th>13</th>\n",
              "      <td>1/5/2019</td>\n",
              "      <td>151214</td>\n",
              "      <td>Male</td>\n",
              "      <td>24.0</td>\n",
              "      <td>Married</td>\n",
              "      <td>Colorado</td>\n",
              "      <td>Platinum</td>\n",
              "      <td>self-employed</td>\n",
              "      <td>Other</td>\n",
              "      <td>1.0</td>\n",
              "      <td>954.12</td>\n",
              "    </tr>\n",
              "    <tr>\n",
              "      <th>14</th>\n",
              "      <td>1/6/2019</td>\n",
              "      <td>151215</td>\n",
              "      <td>Male</td>\n",
              "      <td>16.0</td>\n",
              "      <td>Single</td>\n",
              "      <td>New York</td>\n",
              "      <td>Platinum</td>\n",
              "      <td>workers</td>\n",
              "      <td>Other</td>\n",
              "      <td>1.0</td>\n",
              "      <td>1005.92</td>\n",
              "    </tr>\n",
              "    <tr>\n",
              "      <th>15</th>\n",
              "      <td>1/6/2019</td>\n",
              "      <td>151216</td>\n",
              "      <td>Female</td>\n",
              "      <td>72.0</td>\n",
              "      <td>Married</td>\n",
              "      <td>Maine</td>\n",
              "      <td>Silver</td>\n",
              "      <td>self-employed</td>\n",
              "      <td>PayPal</td>\n",
              "      <td>1.0</td>\n",
              "      <td>2882.77</td>\n",
              "    </tr>\n",
              "    <tr>\n",
              "      <th>16</th>\n",
              "      <td>1/7/2019</td>\n",
              "      <td>151217</td>\n",
              "      <td>Female</td>\n",
              "      <td>77.0</td>\n",
              "      <td>Married</td>\n",
              "      <td>New Mexico</td>\n",
              "      <td>Platinum</td>\n",
              "      <td>workers</td>\n",
              "      <td>Card</td>\n",
              "      <td>0.0</td>\n",
              "      <td>2999.98</td>\n",
              "    </tr>\n",
              "    <tr>\n",
              "      <th>17</th>\n",
              "      <td>1/7/2019</td>\n",
              "      <td>151218</td>\n",
              "      <td>Male</td>\n",
              "      <td>42.0</td>\n",
              "      <td>Married</td>\n",
              "      <td>Maryland</td>\n",
              "      <td>Basic</td>\n",
              "      <td>self-employed</td>\n",
              "      <td>Other</td>\n",
              "      <td>0.0</td>\n",
              "      <td>1902.73</td>\n",
              "    </tr>\n",
              "    <tr>\n",
              "      <th>18</th>\n",
              "      <td>1/8/2019</td>\n",
              "      <td>151219</td>\n",
              "      <td>Female</td>\n",
              "      <td>46.0</td>\n",
              "      <td>Married</td>\n",
              "      <td>Missouri</td>\n",
              "      <td>Basic</td>\n",
              "      <td>Employees</td>\n",
              "      <td>Card</td>\n",
              "      <td>1.0</td>\n",
              "      <td>2968.95</td>\n",
              "    </tr>\n",
              "    <tr>\n",
              "      <th>19</th>\n",
              "      <td>1/8/2019</td>\n",
              "      <td>151220</td>\n",
              "      <td>Female</td>\n",
              "      <td>19.0</td>\n",
              "      <td>Married</td>\n",
              "      <td>Hawaii</td>\n",
              "      <td>Missing</td>\n",
              "      <td>workers</td>\n",
              "      <td>PayPal</td>\n",
              "      <td>0.0</td>\n",
              "      <td>NaN</td>\n",
              "    </tr>\n",
              "  </tbody>\n",
              "</table>\n",
              "</div>\n",
              "    <div class=\"colab-df-buttons\">\n",
              "\n",
              "  <div class=\"colab-df-container\">\n",
              "    <button class=\"colab-df-convert\" onclick=\"convertToInteractive('df-5890690d-0952-4b2a-b79d-841b5ab4666f')\"\n",
              "            title=\"Convert this dataframe to an interactive table.\"\n",
              "            style=\"display:none;\">\n",
              "\n",
              "  <svg xmlns=\"http://www.w3.org/2000/svg\" height=\"24px\" viewBox=\"0 -960 960 960\">\n",
              "    <path d=\"M120-120v-720h720v720H120Zm60-500h600v-160H180v160Zm220 220h160v-160H400v160Zm0 220h160v-160H400v160ZM180-400h160v-160H180v160Zm440 0h160v-160H620v160ZM180-180h160v-160H180v160Zm440 0h160v-160H620v160Z\"/>\n",
              "  </svg>\n",
              "    </button>\n",
              "\n",
              "  <style>\n",
              "    .colab-df-container {\n",
              "      display:flex;\n",
              "      gap: 12px;\n",
              "    }\n",
              "\n",
              "    .colab-df-convert {\n",
              "      background-color: #E8F0FE;\n",
              "      border: none;\n",
              "      border-radius: 50%;\n",
              "      cursor: pointer;\n",
              "      display: none;\n",
              "      fill: #1967D2;\n",
              "      height: 32px;\n",
              "      padding: 0 0 0 0;\n",
              "      width: 32px;\n",
              "    }\n",
              "\n",
              "    .colab-df-convert:hover {\n",
              "      background-color: #E2EBFA;\n",
              "      box-shadow: 0px 1px 2px rgba(60, 64, 67, 0.3), 0px 1px 3px 1px rgba(60, 64, 67, 0.15);\n",
              "      fill: #174EA6;\n",
              "    }\n",
              "\n",
              "    .colab-df-buttons div {\n",
              "      margin-bottom: 4px;\n",
              "    }\n",
              "\n",
              "    [theme=dark] .colab-df-convert {\n",
              "      background-color: #3B4455;\n",
              "      fill: #D2E3FC;\n",
              "    }\n",
              "\n",
              "    [theme=dark] .colab-df-convert:hover {\n",
              "      background-color: #434B5C;\n",
              "      box-shadow: 0px 1px 3px 1px rgba(0, 0, 0, 0.15);\n",
              "      filter: drop-shadow(0px 1px 2px rgba(0, 0, 0, 0.3));\n",
              "      fill: #FFFFFF;\n",
              "    }\n",
              "  </style>\n",
              "\n",
              "    <script>\n",
              "      const buttonEl =\n",
              "        document.querySelector('#df-5890690d-0952-4b2a-b79d-841b5ab4666f button.colab-df-convert');\n",
              "      buttonEl.style.display =\n",
              "        google.colab.kernel.accessAllowed ? 'block' : 'none';\n",
              "\n",
              "      async function convertToInteractive(key) {\n",
              "        const element = document.querySelector('#df-5890690d-0952-4b2a-b79d-841b5ab4666f');\n",
              "        const dataTable =\n",
              "          await google.colab.kernel.invokeFunction('convertToInteractive',\n",
              "                                                    [key], {});\n",
              "        if (!dataTable) return;\n",
              "\n",
              "        const docLinkHtml = 'Like what you see? Visit the ' +\n",
              "          '<a target=\"_blank\" href=https://colab.research.google.com/notebooks/data_table.ipynb>data table notebook</a>'\n",
              "          + ' to learn more about interactive tables.';\n",
              "        element.innerHTML = '';\n",
              "        dataTable['output_type'] = 'display_data';\n",
              "        await google.colab.output.renderOutput(dataTable, element);\n",
              "        const docLink = document.createElement('div');\n",
              "        docLink.innerHTML = docLinkHtml;\n",
              "        element.appendChild(docLink);\n",
              "      }\n",
              "    </script>\n",
              "  </div>\n",
              "\n",
              "\n",
              "    <div id=\"df-1bc6821e-b3e1-40ca-b30e-9e6e92e0e101\">\n",
              "      <button class=\"colab-df-quickchart\" onclick=\"quickchart('df-1bc6821e-b3e1-40ca-b30e-9e6e92e0e101')\"\n",
              "                title=\"Suggest charts\"\n",
              "                style=\"display:none;\">\n",
              "\n",
              "<svg xmlns=\"http://www.w3.org/2000/svg\" height=\"24px\"viewBox=\"0 0 24 24\"\n",
              "     width=\"24px\">\n",
              "    <g>\n",
              "        <path d=\"M19 3H5c-1.1 0-2 .9-2 2v14c0 1.1.9 2 2 2h14c1.1 0 2-.9 2-2V5c0-1.1-.9-2-2-2zM9 17H7v-7h2v7zm4 0h-2V7h2v10zm4 0h-2v-4h2v4z\"/>\n",
              "    </g>\n",
              "</svg>\n",
              "      </button>\n",
              "\n",
              "<style>\n",
              "  .colab-df-quickchart {\n",
              "      --bg-color: #E8F0FE;\n",
              "      --fill-color: #1967D2;\n",
              "      --hover-bg-color: #E2EBFA;\n",
              "      --hover-fill-color: #174EA6;\n",
              "      --disabled-fill-color: #AAA;\n",
              "      --disabled-bg-color: #DDD;\n",
              "  }\n",
              "\n",
              "  [theme=dark] .colab-df-quickchart {\n",
              "      --bg-color: #3B4455;\n",
              "      --fill-color: #D2E3FC;\n",
              "      --hover-bg-color: #434B5C;\n",
              "      --hover-fill-color: #FFFFFF;\n",
              "      --disabled-bg-color: #3B4455;\n",
              "      --disabled-fill-color: #666;\n",
              "  }\n",
              "\n",
              "  .colab-df-quickchart {\n",
              "    background-color: var(--bg-color);\n",
              "    border: none;\n",
              "    border-radius: 50%;\n",
              "    cursor: pointer;\n",
              "    display: none;\n",
              "    fill: var(--fill-color);\n",
              "    height: 32px;\n",
              "    padding: 0;\n",
              "    width: 32px;\n",
              "  }\n",
              "\n",
              "  .colab-df-quickchart:hover {\n",
              "    background-color: var(--hover-bg-color);\n",
              "    box-shadow: 0 1px 2px rgba(60, 64, 67, 0.3), 0 1px 3px 1px rgba(60, 64, 67, 0.15);\n",
              "    fill: var(--button-hover-fill-color);\n",
              "  }\n",
              "\n",
              "  .colab-df-quickchart-complete:disabled,\n",
              "  .colab-df-quickchart-complete:disabled:hover {\n",
              "    background-color: var(--disabled-bg-color);\n",
              "    fill: var(--disabled-fill-color);\n",
              "    box-shadow: none;\n",
              "  }\n",
              "\n",
              "  .colab-df-spinner {\n",
              "    border: 2px solid var(--fill-color);\n",
              "    border-color: transparent;\n",
              "    border-bottom-color: var(--fill-color);\n",
              "    animation:\n",
              "      spin 1s steps(1) infinite;\n",
              "  }\n",
              "\n",
              "  @keyframes spin {\n",
              "    0% {\n",
              "      border-color: transparent;\n",
              "      border-bottom-color: var(--fill-color);\n",
              "      border-left-color: var(--fill-color);\n",
              "    }\n",
              "    20% {\n",
              "      border-color: transparent;\n",
              "      border-left-color: var(--fill-color);\n",
              "      border-top-color: var(--fill-color);\n",
              "    }\n",
              "    30% {\n",
              "      border-color: transparent;\n",
              "      border-left-color: var(--fill-color);\n",
              "      border-top-color: var(--fill-color);\n",
              "      border-right-color: var(--fill-color);\n",
              "    }\n",
              "    40% {\n",
              "      border-color: transparent;\n",
              "      border-right-color: var(--fill-color);\n",
              "      border-top-color: var(--fill-color);\n",
              "    }\n",
              "    60% {\n",
              "      border-color: transparent;\n",
              "      border-right-color: var(--fill-color);\n",
              "    }\n",
              "    80% {\n",
              "      border-color: transparent;\n",
              "      border-right-color: var(--fill-color);\n",
              "      border-bottom-color: var(--fill-color);\n",
              "    }\n",
              "    90% {\n",
              "      border-color: transparent;\n",
              "      border-bottom-color: var(--fill-color);\n",
              "    }\n",
              "  }\n",
              "</style>\n",
              "\n",
              "      <script>\n",
              "        async function quickchart(key) {\n",
              "          const quickchartButtonEl =\n",
              "            document.querySelector('#' + key + ' button');\n",
              "          quickchartButtonEl.disabled = true;  // To prevent multiple clicks.\n",
              "          quickchartButtonEl.classList.add('colab-df-spinner');\n",
              "          try {\n",
              "            const charts = await google.colab.kernel.invokeFunction(\n",
              "                'suggestCharts', [key], {});\n",
              "          } catch (error) {\n",
              "            console.error('Error during call to suggestCharts:', error);\n",
              "          }\n",
              "          quickchartButtonEl.classList.remove('colab-df-spinner');\n",
              "          quickchartButtonEl.classList.add('colab-df-quickchart-complete');\n",
              "        }\n",
              "        (() => {\n",
              "          let quickchartButtonEl =\n",
              "            document.querySelector('#df-1bc6821e-b3e1-40ca-b30e-9e6e92e0e101 button');\n",
              "          quickchartButtonEl.style.display =\n",
              "            google.colab.kernel.accessAllowed ? 'block' : 'none';\n",
              "        })();\n",
              "      </script>\n",
              "    </div>\n",
              "\n",
              "    </div>\n",
              "  </div>\n"
            ],
            "application/vnd.google.colaboratory.intrinsic+json": {
              "type": "dataframe",
              "variable_name": "df_csv",
              "summary": "{\n  \"name\": \"df_csv\",\n  \"rows\": 2511,\n  \"fields\": [\n    {\n      \"column\": 0,\n      \"properties\": {\n        \"dtype\": \"object\",\n        \"num_unique_values\": 810,\n        \"samples\": [\n          \"9/13/2019\",\n          \"12/7/2020\",\n          \"8/23/2019\"\n        ],\n        \"semantic_type\": \"\",\n        \"description\": \"\"\n      }\n    },\n    {\n      \"column\": 1,\n      \"properties\": {\n        \"dtype\": \"number\",\n        \"std\": 724,\n        \"min\": 151201,\n        \"max\": 153699,\n        \"num_unique_values\": 2499,\n        \"samples\": [\n          153520,\n          153066,\n          152103\n        ],\n        \"semantic_type\": \"\",\n        \"description\": \"\"\n      }\n    },\n    {\n      \"column\": 2,\n      \"properties\": {\n        \"dtype\": \"category\",\n        \"num_unique_values\": 2,\n        \"samples\": [\n          \"Female\",\n          \"Male\"\n        ],\n        \"semantic_type\": \"\",\n        \"description\": \"\"\n      }\n    },\n    {\n      \"column\": 3,\n      \"properties\": {\n        \"dtype\": \"number\",\n        \"std\": 18.181448026882148,\n        \"min\": 15.0,\n        \"max\": 78.0,\n        \"num_unique_values\": 63,\n        \"samples\": [\n          44.0,\n          36.0\n        ],\n        \"semantic_type\": \"\",\n        \"description\": \"\"\n      }\n    },\n    {\n      \"column\": 4,\n      \"properties\": {\n        \"dtype\": \"category\",\n        \"num_unique_values\": 2,\n        \"samples\": [\n          \"Married\",\n          \"Single\"\n        ],\n        \"semantic_type\": \"\",\n        \"description\": \"\"\n      }\n    },\n    {\n      \"column\": 5,\n      \"properties\": {\n        \"dtype\": \"category\",\n        \"num_unique_values\": 50,\n        \"samples\": [\n          \"Maryland\",\n          \"Nevada\"\n        ],\n        \"semantic_type\": \"\",\n        \"description\": \"\"\n      }\n    },\n    {\n      \"column\": 6,\n      \"properties\": {\n        \"dtype\": \"category\",\n        \"num_unique_values\": 5,\n        \"samples\": [\n          \"Platinum\",\n          \"Missing\"\n        ],\n        \"semantic_type\": \"\",\n        \"description\": \"\"\n      }\n    },\n    {\n      \"column\": 7,\n      \"properties\": {\n        \"dtype\": \"category\",\n        \"num_unique_values\": 4,\n        \"samples\": [\n          \"workers\",\n          \"Unemployment\"\n        ],\n        \"semantic_type\": \"\",\n        \"description\": \"\"\n      }\n    },\n    {\n      \"column\": 8,\n      \"properties\": {\n        \"dtype\": \"category\",\n        \"num_unique_values\": 3,\n        \"samples\": [\n          \"Card\",\n          \"PayPal\"\n        ],\n        \"semantic_type\": \"\",\n        \"description\": \"\"\n      }\n    },\n    {\n      \"column\": 9,\n      \"properties\": {\n        \"dtype\": \"number\",\n        \"std\": 0.4764523081961523,\n        \"min\": 0.0,\n        \"max\": 1.0,\n        \"num_unique_values\": 2,\n        \"samples\": [\n          1.0,\n          0.0\n        ],\n        \"semantic_type\": \"\",\n        \"description\": \"\"\n      }\n    },\n    {\n      \"column\": 10,\n      \"properties\": {\n        \"dtype\": \"number\",\n        \"std\": 878.6005446880919,\n        \"min\": 2.09,\n        \"max\": 2999.98,\n        \"num_unique_values\": 2249,\n        \"samples\": [\n          1606.12,\n          837.71\n        ],\n        \"semantic_type\": \"\",\n        \"description\": \"\"\n      }\n    }\n  ]\n}"
            }
          },
          "metadata": {},
          "execution_count": 19
        }
      ],
      "source": [
        "# Loading csv file with skip first 2 rows without header\n",
        "df_csv = pd.read_csv('online_store_customer_data.csv', skiprows=2, header=None)\n",
        "df_csv.head(20)"
      ]
    },
    {
      "cell_type": "markdown",
      "id": "qNhba27PwpUa",
      "metadata": {
        "id": "qNhba27PwpUa"
      },
      "source": [
        "### Read CSV file from URL"
      ]
    },
    {
      "cell_type": "code",
      "execution_count": 23,
      "id": "ZdhOBOE7xXW0",
      "metadata": {
        "id": "ZdhOBOE7xXW0",
        "outputId": "2063bf94-c82c-4289-8854-d150bece00fd",
        "colab": {
          "base_uri": "https://localhost:8080/",
          "height": 339
        }
      },
      "outputs": [
        {
          "output_type": "error",
          "ename": "HTTPError",
          "evalue": "HTTP Error 404: Not Found",
          "traceback": [
            "\u001b[0;31m---------------------------------------------------------------------------\u001b[0m",
            "\u001b[0;31mHTTPError\u001b[0m                                 Traceback (most recent call last)",
            "\u001b[0;32m/tmp/ipython-input-1648078928.py\u001b[0m in \u001b[0;36m<cell line: 0>\u001b[0;34m()\u001b[0m\n\u001b[1;32m      1\u001b[0m \u001b[0;31m# Read csv file from url\u001b[0m\u001b[0;34m\u001b[0m\u001b[0;34m\u001b[0m\u001b[0m\n\u001b[1;32m      2\u001b[0m \u001b[0murl\u001b[0m\u001b[0;34m=\u001b[0m\u001b[0;34m\"https://raw.githubusercontent.com/norochalise/medium/main/pandas_tutorial/dataset/online_store_customer_data.csv\"\u001b[0m\u001b[0;34m\u001b[0m\u001b[0;34m\u001b[0m\u001b[0m\n\u001b[0;32m----> 3\u001b[0;31m \u001b[0mdf_url\u001b[0m \u001b[0;34m=\u001b[0m \u001b[0mpd\u001b[0m\u001b[0;34m.\u001b[0m\u001b[0mread_csv\u001b[0m\u001b[0;34m(\u001b[0m\u001b[0murl\u001b[0m\u001b[0;34m)\u001b[0m\u001b[0;34m\u001b[0m\u001b[0;34m\u001b[0m\u001b[0m\n\u001b[0m\u001b[1;32m      4\u001b[0m \u001b[0mdf_url\u001b[0m\u001b[0;34m.\u001b[0m\u001b[0mhead\u001b[0m\u001b[0;34m(\u001b[0m\u001b[0;36m3\u001b[0m\u001b[0;34m)\u001b[0m\u001b[0;34m\u001b[0m\u001b[0;34m\u001b[0m\u001b[0m\n",
            "\u001b[0;32m/usr/local/lib/python3.11/dist-packages/pandas/io/parsers/readers.py\u001b[0m in \u001b[0;36mread_csv\u001b[0;34m(filepath_or_buffer, sep, delimiter, header, names, index_col, usecols, dtype, engine, converters, true_values, false_values, skipinitialspace, skiprows, skipfooter, nrows, na_values, keep_default_na, na_filter, verbose, skip_blank_lines, parse_dates, infer_datetime_format, keep_date_col, date_parser, date_format, dayfirst, cache_dates, iterator, chunksize, compression, thousands, decimal, lineterminator, quotechar, quoting, doublequote, escapechar, comment, encoding, encoding_errors, dialect, on_bad_lines, delim_whitespace, low_memory, memory_map, float_precision, storage_options, dtype_backend)\u001b[0m\n\u001b[1;32m   1024\u001b[0m     \u001b[0mkwds\u001b[0m\u001b[0;34m.\u001b[0m\u001b[0mupdate\u001b[0m\u001b[0;34m(\u001b[0m\u001b[0mkwds_defaults\u001b[0m\u001b[0;34m)\u001b[0m\u001b[0;34m\u001b[0m\u001b[0;34m\u001b[0m\u001b[0m\n\u001b[1;32m   1025\u001b[0m \u001b[0;34m\u001b[0m\u001b[0m\n\u001b[0;32m-> 1026\u001b[0;31m     \u001b[0;32mreturn\u001b[0m \u001b[0m_read\u001b[0m\u001b[0;34m(\u001b[0m\u001b[0mfilepath_or_buffer\u001b[0m\u001b[0;34m,\u001b[0m \u001b[0mkwds\u001b[0m\u001b[0;34m)\u001b[0m\u001b[0;34m\u001b[0m\u001b[0;34m\u001b[0m\u001b[0m\n\u001b[0m\u001b[1;32m   1027\u001b[0m \u001b[0;34m\u001b[0m\u001b[0m\n\u001b[1;32m   1028\u001b[0m \u001b[0;34m\u001b[0m\u001b[0m\n",
            "\u001b[0;32m/usr/local/lib/python3.11/dist-packages/pandas/io/parsers/readers.py\u001b[0m in \u001b[0;36m_read\u001b[0;34m(filepath_or_buffer, kwds)\u001b[0m\n\u001b[1;32m    618\u001b[0m \u001b[0;34m\u001b[0m\u001b[0m\n\u001b[1;32m    619\u001b[0m     \u001b[0;31m# Create the parser.\u001b[0m\u001b[0;34m\u001b[0m\u001b[0;34m\u001b[0m\u001b[0m\n\u001b[0;32m--> 620\u001b[0;31m     \u001b[0mparser\u001b[0m \u001b[0;34m=\u001b[0m \u001b[0mTextFileReader\u001b[0m\u001b[0;34m(\u001b[0m\u001b[0mfilepath_or_buffer\u001b[0m\u001b[0;34m,\u001b[0m \u001b[0;34m**\u001b[0m\u001b[0mkwds\u001b[0m\u001b[0;34m)\u001b[0m\u001b[0;34m\u001b[0m\u001b[0;34m\u001b[0m\u001b[0m\n\u001b[0m\u001b[1;32m    621\u001b[0m \u001b[0;34m\u001b[0m\u001b[0m\n\u001b[1;32m    622\u001b[0m     \u001b[0;32mif\u001b[0m \u001b[0mchunksize\u001b[0m \u001b[0;32mor\u001b[0m \u001b[0miterator\u001b[0m\u001b[0;34m:\u001b[0m\u001b[0;34m\u001b[0m\u001b[0;34m\u001b[0m\u001b[0m\n",
            "\u001b[0;32m/usr/local/lib/python3.11/dist-packages/pandas/io/parsers/readers.py\u001b[0m in \u001b[0;36m__init__\u001b[0;34m(self, f, engine, **kwds)\u001b[0m\n\u001b[1;32m   1618\u001b[0m \u001b[0;34m\u001b[0m\u001b[0m\n\u001b[1;32m   1619\u001b[0m         \u001b[0mself\u001b[0m\u001b[0;34m.\u001b[0m\u001b[0mhandles\u001b[0m\u001b[0;34m:\u001b[0m \u001b[0mIOHandles\u001b[0m \u001b[0;34m|\u001b[0m \u001b[0;32mNone\u001b[0m \u001b[0;34m=\u001b[0m \u001b[0;32mNone\u001b[0m\u001b[0;34m\u001b[0m\u001b[0;34m\u001b[0m\u001b[0m\n\u001b[0;32m-> 1620\u001b[0;31m         \u001b[0mself\u001b[0m\u001b[0;34m.\u001b[0m\u001b[0m_engine\u001b[0m \u001b[0;34m=\u001b[0m \u001b[0mself\u001b[0m\u001b[0;34m.\u001b[0m\u001b[0m_make_engine\u001b[0m\u001b[0;34m(\u001b[0m\u001b[0mf\u001b[0m\u001b[0;34m,\u001b[0m \u001b[0mself\u001b[0m\u001b[0;34m.\u001b[0m\u001b[0mengine\u001b[0m\u001b[0;34m)\u001b[0m\u001b[0;34m\u001b[0m\u001b[0;34m\u001b[0m\u001b[0m\n\u001b[0m\u001b[1;32m   1621\u001b[0m \u001b[0;34m\u001b[0m\u001b[0m\n\u001b[1;32m   1622\u001b[0m     \u001b[0;32mdef\u001b[0m \u001b[0mclose\u001b[0m\u001b[0;34m(\u001b[0m\u001b[0mself\u001b[0m\u001b[0;34m)\u001b[0m \u001b[0;34m->\u001b[0m \u001b[0;32mNone\u001b[0m\u001b[0;34m:\u001b[0m\u001b[0;34m\u001b[0m\u001b[0;34m\u001b[0m\u001b[0m\n",
            "\u001b[0;32m/usr/local/lib/python3.11/dist-packages/pandas/io/parsers/readers.py\u001b[0m in \u001b[0;36m_make_engine\u001b[0;34m(self, f, engine)\u001b[0m\n\u001b[1;32m   1878\u001b[0m                 \u001b[0;32mif\u001b[0m \u001b[0;34m\"b\"\u001b[0m \u001b[0;32mnot\u001b[0m \u001b[0;32min\u001b[0m \u001b[0mmode\u001b[0m\u001b[0;34m:\u001b[0m\u001b[0;34m\u001b[0m\u001b[0;34m\u001b[0m\u001b[0m\n\u001b[1;32m   1879\u001b[0m                     \u001b[0mmode\u001b[0m \u001b[0;34m+=\u001b[0m \u001b[0;34m\"b\"\u001b[0m\u001b[0;34m\u001b[0m\u001b[0;34m\u001b[0m\u001b[0m\n\u001b[0;32m-> 1880\u001b[0;31m             self.handles = get_handle(\n\u001b[0m\u001b[1;32m   1881\u001b[0m                 \u001b[0mf\u001b[0m\u001b[0;34m,\u001b[0m\u001b[0;34m\u001b[0m\u001b[0;34m\u001b[0m\u001b[0m\n\u001b[1;32m   1882\u001b[0m                 \u001b[0mmode\u001b[0m\u001b[0;34m,\u001b[0m\u001b[0;34m\u001b[0m\u001b[0;34m\u001b[0m\u001b[0m\n",
            "\u001b[0;32m/usr/local/lib/python3.11/dist-packages/pandas/io/common.py\u001b[0m in \u001b[0;36mget_handle\u001b[0;34m(path_or_buf, mode, encoding, compression, memory_map, is_text, errors, storage_options)\u001b[0m\n\u001b[1;32m    726\u001b[0m \u001b[0;34m\u001b[0m\u001b[0m\n\u001b[1;32m    727\u001b[0m     \u001b[0;31m# open URLs\u001b[0m\u001b[0;34m\u001b[0m\u001b[0;34m\u001b[0m\u001b[0m\n\u001b[0;32m--> 728\u001b[0;31m     ioargs = _get_filepath_or_buffer(\n\u001b[0m\u001b[1;32m    729\u001b[0m         \u001b[0mpath_or_buf\u001b[0m\u001b[0;34m,\u001b[0m\u001b[0;34m\u001b[0m\u001b[0;34m\u001b[0m\u001b[0m\n\u001b[1;32m    730\u001b[0m         \u001b[0mencoding\u001b[0m\u001b[0;34m=\u001b[0m\u001b[0mencoding\u001b[0m\u001b[0;34m,\u001b[0m\u001b[0;34m\u001b[0m\u001b[0;34m\u001b[0m\u001b[0m\n",
            "\u001b[0;32m/usr/local/lib/python3.11/dist-packages/pandas/io/common.py\u001b[0m in \u001b[0;36m_get_filepath_or_buffer\u001b[0;34m(filepath_or_buffer, encoding, compression, mode, storage_options)\u001b[0m\n\u001b[1;32m    382\u001b[0m         \u001b[0;31m# assuming storage_options is to be interpreted as headers\u001b[0m\u001b[0;34m\u001b[0m\u001b[0;34m\u001b[0m\u001b[0m\n\u001b[1;32m    383\u001b[0m         \u001b[0mreq_info\u001b[0m \u001b[0;34m=\u001b[0m \u001b[0murllib\u001b[0m\u001b[0;34m.\u001b[0m\u001b[0mrequest\u001b[0m\u001b[0;34m.\u001b[0m\u001b[0mRequest\u001b[0m\u001b[0;34m(\u001b[0m\u001b[0mfilepath_or_buffer\u001b[0m\u001b[0;34m,\u001b[0m \u001b[0mheaders\u001b[0m\u001b[0;34m=\u001b[0m\u001b[0mstorage_options\u001b[0m\u001b[0;34m)\u001b[0m\u001b[0;34m\u001b[0m\u001b[0;34m\u001b[0m\u001b[0m\n\u001b[0;32m--> 384\u001b[0;31m         \u001b[0;32mwith\u001b[0m \u001b[0murlopen\u001b[0m\u001b[0;34m(\u001b[0m\u001b[0mreq_info\u001b[0m\u001b[0;34m)\u001b[0m \u001b[0;32mas\u001b[0m \u001b[0mreq\u001b[0m\u001b[0;34m:\u001b[0m\u001b[0;34m\u001b[0m\u001b[0;34m\u001b[0m\u001b[0m\n\u001b[0m\u001b[1;32m    385\u001b[0m             \u001b[0mcontent_encoding\u001b[0m \u001b[0;34m=\u001b[0m \u001b[0mreq\u001b[0m\u001b[0;34m.\u001b[0m\u001b[0mheaders\u001b[0m\u001b[0;34m.\u001b[0m\u001b[0mget\u001b[0m\u001b[0;34m(\u001b[0m\u001b[0;34m\"Content-Encoding\"\u001b[0m\u001b[0;34m,\u001b[0m \u001b[0;32mNone\u001b[0m\u001b[0;34m)\u001b[0m\u001b[0;34m\u001b[0m\u001b[0;34m\u001b[0m\u001b[0m\n\u001b[1;32m    386\u001b[0m             \u001b[0;32mif\u001b[0m \u001b[0mcontent_encoding\u001b[0m \u001b[0;34m==\u001b[0m \u001b[0;34m\"gzip\"\u001b[0m\u001b[0;34m:\u001b[0m\u001b[0;34m\u001b[0m\u001b[0;34m\u001b[0m\u001b[0m\n",
            "\u001b[0;32m/usr/local/lib/python3.11/dist-packages/pandas/io/common.py\u001b[0m in \u001b[0;36murlopen\u001b[0;34m(*args, **kwargs)\u001b[0m\n\u001b[1;32m    287\u001b[0m     \u001b[0;32mimport\u001b[0m \u001b[0murllib\u001b[0m\u001b[0;34m.\u001b[0m\u001b[0mrequest\u001b[0m\u001b[0;34m\u001b[0m\u001b[0;34m\u001b[0m\u001b[0m\n\u001b[1;32m    288\u001b[0m \u001b[0;34m\u001b[0m\u001b[0m\n\u001b[0;32m--> 289\u001b[0;31m     \u001b[0;32mreturn\u001b[0m \u001b[0murllib\u001b[0m\u001b[0;34m.\u001b[0m\u001b[0mrequest\u001b[0m\u001b[0;34m.\u001b[0m\u001b[0murlopen\u001b[0m\u001b[0;34m(\u001b[0m\u001b[0;34m*\u001b[0m\u001b[0margs\u001b[0m\u001b[0;34m,\u001b[0m \u001b[0;34m**\u001b[0m\u001b[0mkwargs\u001b[0m\u001b[0;34m)\u001b[0m\u001b[0;34m\u001b[0m\u001b[0;34m\u001b[0m\u001b[0m\n\u001b[0m\u001b[1;32m    290\u001b[0m \u001b[0;34m\u001b[0m\u001b[0m\n\u001b[1;32m    291\u001b[0m \u001b[0;34m\u001b[0m\u001b[0m\n",
            "\u001b[0;32m/usr/lib/python3.11/urllib/request.py\u001b[0m in \u001b[0;36murlopen\u001b[0;34m(url, data, timeout, cafile, capath, cadefault, context)\u001b[0m\n\u001b[1;32m    214\u001b[0m     \u001b[0;32melse\u001b[0m\u001b[0;34m:\u001b[0m\u001b[0;34m\u001b[0m\u001b[0;34m\u001b[0m\u001b[0m\n\u001b[1;32m    215\u001b[0m         \u001b[0mopener\u001b[0m \u001b[0;34m=\u001b[0m \u001b[0m_opener\u001b[0m\u001b[0;34m\u001b[0m\u001b[0;34m\u001b[0m\u001b[0m\n\u001b[0;32m--> 216\u001b[0;31m     \u001b[0;32mreturn\u001b[0m \u001b[0mopener\u001b[0m\u001b[0;34m.\u001b[0m\u001b[0mopen\u001b[0m\u001b[0;34m(\u001b[0m\u001b[0murl\u001b[0m\u001b[0;34m,\u001b[0m \u001b[0mdata\u001b[0m\u001b[0;34m,\u001b[0m \u001b[0mtimeout\u001b[0m\u001b[0;34m)\u001b[0m\u001b[0;34m\u001b[0m\u001b[0;34m\u001b[0m\u001b[0m\n\u001b[0m\u001b[1;32m    217\u001b[0m \u001b[0;34m\u001b[0m\u001b[0m\n\u001b[1;32m    218\u001b[0m \u001b[0;32mdef\u001b[0m \u001b[0minstall_opener\u001b[0m\u001b[0;34m(\u001b[0m\u001b[0mopener\u001b[0m\u001b[0;34m)\u001b[0m\u001b[0;34m:\u001b[0m\u001b[0;34m\u001b[0m\u001b[0;34m\u001b[0m\u001b[0m\n",
            "\u001b[0;32m/usr/lib/python3.11/urllib/request.py\u001b[0m in \u001b[0;36mopen\u001b[0;34m(self, fullurl, data, timeout)\u001b[0m\n\u001b[1;32m    523\u001b[0m         \u001b[0;32mfor\u001b[0m \u001b[0mprocessor\u001b[0m \u001b[0;32min\u001b[0m \u001b[0mself\u001b[0m\u001b[0;34m.\u001b[0m\u001b[0mprocess_response\u001b[0m\u001b[0;34m.\u001b[0m\u001b[0mget\u001b[0m\u001b[0;34m(\u001b[0m\u001b[0mprotocol\u001b[0m\u001b[0;34m,\u001b[0m \u001b[0;34m[\u001b[0m\u001b[0;34m]\u001b[0m\u001b[0;34m)\u001b[0m\u001b[0;34m:\u001b[0m\u001b[0;34m\u001b[0m\u001b[0;34m\u001b[0m\u001b[0m\n\u001b[1;32m    524\u001b[0m             \u001b[0mmeth\u001b[0m \u001b[0;34m=\u001b[0m \u001b[0mgetattr\u001b[0m\u001b[0;34m(\u001b[0m\u001b[0mprocessor\u001b[0m\u001b[0;34m,\u001b[0m \u001b[0mmeth_name\u001b[0m\u001b[0;34m)\u001b[0m\u001b[0;34m\u001b[0m\u001b[0;34m\u001b[0m\u001b[0m\n\u001b[0;32m--> 525\u001b[0;31m             \u001b[0mresponse\u001b[0m \u001b[0;34m=\u001b[0m \u001b[0mmeth\u001b[0m\u001b[0;34m(\u001b[0m\u001b[0mreq\u001b[0m\u001b[0;34m,\u001b[0m \u001b[0mresponse\u001b[0m\u001b[0;34m)\u001b[0m\u001b[0;34m\u001b[0m\u001b[0;34m\u001b[0m\u001b[0m\n\u001b[0m\u001b[1;32m    526\u001b[0m \u001b[0;34m\u001b[0m\u001b[0m\n\u001b[1;32m    527\u001b[0m         \u001b[0;32mreturn\u001b[0m \u001b[0mresponse\u001b[0m\u001b[0;34m\u001b[0m\u001b[0;34m\u001b[0m\u001b[0m\n",
            "\u001b[0;32m/usr/lib/python3.11/urllib/request.py\u001b[0m in \u001b[0;36mhttp_response\u001b[0;34m(self, request, response)\u001b[0m\n\u001b[1;32m    632\u001b[0m         \u001b[0;31m# request was successfully received, understood, and accepted.\u001b[0m\u001b[0;34m\u001b[0m\u001b[0;34m\u001b[0m\u001b[0m\n\u001b[1;32m    633\u001b[0m         \u001b[0;32mif\u001b[0m \u001b[0;32mnot\u001b[0m \u001b[0;34m(\u001b[0m\u001b[0;36m200\u001b[0m \u001b[0;34m<=\u001b[0m \u001b[0mcode\u001b[0m \u001b[0;34m<\u001b[0m \u001b[0;36m300\u001b[0m\u001b[0;34m)\u001b[0m\u001b[0;34m:\u001b[0m\u001b[0;34m\u001b[0m\u001b[0;34m\u001b[0m\u001b[0m\n\u001b[0;32m--> 634\u001b[0;31m             response = self.parent.error(\n\u001b[0m\u001b[1;32m    635\u001b[0m                 'http', request, response, code, msg, hdrs)\n\u001b[1;32m    636\u001b[0m \u001b[0;34m\u001b[0m\u001b[0m\n",
            "\u001b[0;32m/usr/lib/python3.11/urllib/request.py\u001b[0m in \u001b[0;36merror\u001b[0;34m(self, proto, *args)\u001b[0m\n\u001b[1;32m    561\u001b[0m         \u001b[0;32mif\u001b[0m \u001b[0mhttp_err\u001b[0m\u001b[0;34m:\u001b[0m\u001b[0;34m\u001b[0m\u001b[0;34m\u001b[0m\u001b[0m\n\u001b[1;32m    562\u001b[0m             \u001b[0margs\u001b[0m \u001b[0;34m=\u001b[0m \u001b[0;34m(\u001b[0m\u001b[0mdict\u001b[0m\u001b[0;34m,\u001b[0m \u001b[0;34m'default'\u001b[0m\u001b[0;34m,\u001b[0m \u001b[0;34m'http_error_default'\u001b[0m\u001b[0;34m)\u001b[0m \u001b[0;34m+\u001b[0m \u001b[0morig_args\u001b[0m\u001b[0;34m\u001b[0m\u001b[0;34m\u001b[0m\u001b[0m\n\u001b[0;32m--> 563\u001b[0;31m             \u001b[0;32mreturn\u001b[0m \u001b[0mself\u001b[0m\u001b[0;34m.\u001b[0m\u001b[0m_call_chain\u001b[0m\u001b[0;34m(\u001b[0m\u001b[0;34m*\u001b[0m\u001b[0margs\u001b[0m\u001b[0;34m)\u001b[0m\u001b[0;34m\u001b[0m\u001b[0;34m\u001b[0m\u001b[0m\n\u001b[0m\u001b[1;32m    564\u001b[0m \u001b[0;34m\u001b[0m\u001b[0m\n\u001b[1;32m    565\u001b[0m \u001b[0;31m# XXX probably also want an abstract factory that knows when it makes\u001b[0m\u001b[0;34m\u001b[0m\u001b[0;34m\u001b[0m\u001b[0m\n",
            "\u001b[0;32m/usr/lib/python3.11/urllib/request.py\u001b[0m in \u001b[0;36m_call_chain\u001b[0;34m(self, chain, kind, meth_name, *args)\u001b[0m\n\u001b[1;32m    494\u001b[0m         \u001b[0;32mfor\u001b[0m \u001b[0mhandler\u001b[0m \u001b[0;32min\u001b[0m \u001b[0mhandlers\u001b[0m\u001b[0;34m:\u001b[0m\u001b[0;34m\u001b[0m\u001b[0;34m\u001b[0m\u001b[0m\n\u001b[1;32m    495\u001b[0m             \u001b[0mfunc\u001b[0m \u001b[0;34m=\u001b[0m \u001b[0mgetattr\u001b[0m\u001b[0;34m(\u001b[0m\u001b[0mhandler\u001b[0m\u001b[0;34m,\u001b[0m \u001b[0mmeth_name\u001b[0m\u001b[0;34m)\u001b[0m\u001b[0;34m\u001b[0m\u001b[0;34m\u001b[0m\u001b[0m\n\u001b[0;32m--> 496\u001b[0;31m             \u001b[0mresult\u001b[0m \u001b[0;34m=\u001b[0m \u001b[0mfunc\u001b[0m\u001b[0;34m(\u001b[0m\u001b[0;34m*\u001b[0m\u001b[0margs\u001b[0m\u001b[0;34m)\u001b[0m\u001b[0;34m\u001b[0m\u001b[0;34m\u001b[0m\u001b[0m\n\u001b[0m\u001b[1;32m    497\u001b[0m             \u001b[0;32mif\u001b[0m \u001b[0mresult\u001b[0m \u001b[0;32mis\u001b[0m \u001b[0;32mnot\u001b[0m \u001b[0;32mNone\u001b[0m\u001b[0;34m:\u001b[0m\u001b[0;34m\u001b[0m\u001b[0;34m\u001b[0m\u001b[0m\n\u001b[1;32m    498\u001b[0m                 \u001b[0;32mreturn\u001b[0m \u001b[0mresult\u001b[0m\u001b[0;34m\u001b[0m\u001b[0;34m\u001b[0m\u001b[0m\n",
            "\u001b[0;32m/usr/lib/python3.11/urllib/request.py\u001b[0m in \u001b[0;36mhttp_error_default\u001b[0;34m(self, req, fp, code, msg, hdrs)\u001b[0m\n\u001b[1;32m    641\u001b[0m \u001b[0;32mclass\u001b[0m \u001b[0mHTTPDefaultErrorHandler\u001b[0m\u001b[0;34m(\u001b[0m\u001b[0mBaseHandler\u001b[0m\u001b[0;34m)\u001b[0m\u001b[0;34m:\u001b[0m\u001b[0;34m\u001b[0m\u001b[0;34m\u001b[0m\u001b[0m\n\u001b[1;32m    642\u001b[0m     \u001b[0;32mdef\u001b[0m \u001b[0mhttp_error_default\u001b[0m\u001b[0;34m(\u001b[0m\u001b[0mself\u001b[0m\u001b[0;34m,\u001b[0m \u001b[0mreq\u001b[0m\u001b[0;34m,\u001b[0m \u001b[0mfp\u001b[0m\u001b[0;34m,\u001b[0m \u001b[0mcode\u001b[0m\u001b[0;34m,\u001b[0m \u001b[0mmsg\u001b[0m\u001b[0;34m,\u001b[0m \u001b[0mhdrs\u001b[0m\u001b[0;34m)\u001b[0m\u001b[0;34m:\u001b[0m\u001b[0;34m\u001b[0m\u001b[0;34m\u001b[0m\u001b[0m\n\u001b[0;32m--> 643\u001b[0;31m         \u001b[0;32mraise\u001b[0m \u001b[0mHTTPError\u001b[0m\u001b[0;34m(\u001b[0m\u001b[0mreq\u001b[0m\u001b[0;34m.\u001b[0m\u001b[0mfull_url\u001b[0m\u001b[0;34m,\u001b[0m \u001b[0mcode\u001b[0m\u001b[0;34m,\u001b[0m \u001b[0mmsg\u001b[0m\u001b[0;34m,\u001b[0m \u001b[0mhdrs\u001b[0m\u001b[0;34m,\u001b[0m \u001b[0mfp\u001b[0m\u001b[0;34m)\u001b[0m\u001b[0;34m\u001b[0m\u001b[0;34m\u001b[0m\u001b[0m\n\u001b[0m\u001b[1;32m    644\u001b[0m \u001b[0;34m\u001b[0m\u001b[0m\n\u001b[1;32m    645\u001b[0m \u001b[0;32mclass\u001b[0m \u001b[0mHTTPRedirectHandler\u001b[0m\u001b[0;34m(\u001b[0m\u001b[0mBaseHandler\u001b[0m\u001b[0;34m)\u001b[0m\u001b[0;34m:\u001b[0m\u001b[0;34m\u001b[0m\u001b[0;34m\u001b[0m\u001b[0m\n",
            "\u001b[0;31mHTTPError\u001b[0m: HTTP Error 404: Not Found"
          ]
        }
      ],
      "source": [
        "# Read csv file from url\n",
        "url=\"https://raw.githubusercontent.com/norochalise/medium/main/pandas_tutorial/dataset/online_store_customer_data.csv\"\n",
        "df_url = pd.read_csv(url)\n",
        "df_url.head(3)"
      ]
    },
    {
      "cell_type": "markdown",
      "id": "h6bQJPx5zJEm",
      "metadata": {
        "id": "h6bQJPx5zJEm"
      },
      "source": [
        "### Write CSV file"
      ]
    },
    {
      "cell_type": "code",
      "execution_count": 24,
      "id": "uykhkL_7zSMu",
      "metadata": {
        "id": "uykhkL_7zSMu"
      },
      "outputs": [],
      "source": [
        "# saving df_url dataframe to csv file\n",
        "df1 = pd.read_csv('online_store_customer_data.csv', skiprows=2, header=None)\n"
      ]
    },
    {
      "cell_type": "markdown",
      "id": "hZCC2_gp1Qcm",
      "metadata": {
        "id": "hZCC2_gp1Qcm"
      },
      "source": [
        "### Read text file"
      ]
    },
    {
      "cell_type": "code",
      "execution_count": 27,
      "id": "i9Adg1q32Hkj",
      "metadata": {
        "id": "i9Adg1q32Hkj",
        "colab": {
          "base_uri": "https://localhost:8080/",
          "height": 322
        },
        "outputId": "e0032389-aac7-4ba8-afcf-0ecc98e1f845"
      },
      "outputs": [
        {
          "output_type": "error",
          "ename": "FileNotFoundError",
          "evalue": "[Errno 2] No such file or directory: 'dataset/demo_text.txt'",
          "traceback": [
            "\u001b[0;31m---------------------------------------------------------------------------\u001b[0m",
            "\u001b[0;31mFileNotFoundError\u001b[0m                         Traceback (most recent call last)",
            "\u001b[0;32m/tmp/ipython-input-2675214063.py\u001b[0m in \u001b[0;36m<cell line: 0>\u001b[0;34m()\u001b[0m\n\u001b[1;32m      1\u001b[0m \u001b[0;31m# read plain text file\u001b[0m\u001b[0;34m\u001b[0m\u001b[0;34m\u001b[0m\u001b[0m\n\u001b[0;32m----> 2\u001b[0;31m \u001b[0mdf_txt\u001b[0m \u001b[0;34m=\u001b[0m \u001b[0mpd\u001b[0m\u001b[0;34m.\u001b[0m\u001b[0mread_csv\u001b[0m\u001b[0;34m(\u001b[0m\u001b[0;34m\"dataset/demo_text.txt\"\u001b[0m\u001b[0;34m)\u001b[0m\u001b[0;34m\u001b[0m\u001b[0;34m\u001b[0m\u001b[0m\n\u001b[0m",
            "\u001b[0;32m/usr/local/lib/python3.11/dist-packages/pandas/io/parsers/readers.py\u001b[0m in \u001b[0;36mread_csv\u001b[0;34m(filepath_or_buffer, sep, delimiter, header, names, index_col, usecols, dtype, engine, converters, true_values, false_values, skipinitialspace, skiprows, skipfooter, nrows, na_values, keep_default_na, na_filter, verbose, skip_blank_lines, parse_dates, infer_datetime_format, keep_date_col, date_parser, date_format, dayfirst, cache_dates, iterator, chunksize, compression, thousands, decimal, lineterminator, quotechar, quoting, doublequote, escapechar, comment, encoding, encoding_errors, dialect, on_bad_lines, delim_whitespace, low_memory, memory_map, float_precision, storage_options, dtype_backend)\u001b[0m\n\u001b[1;32m   1024\u001b[0m     \u001b[0mkwds\u001b[0m\u001b[0;34m.\u001b[0m\u001b[0mupdate\u001b[0m\u001b[0;34m(\u001b[0m\u001b[0mkwds_defaults\u001b[0m\u001b[0;34m)\u001b[0m\u001b[0;34m\u001b[0m\u001b[0;34m\u001b[0m\u001b[0m\n\u001b[1;32m   1025\u001b[0m \u001b[0;34m\u001b[0m\u001b[0m\n\u001b[0;32m-> 1026\u001b[0;31m     \u001b[0;32mreturn\u001b[0m \u001b[0m_read\u001b[0m\u001b[0;34m(\u001b[0m\u001b[0mfilepath_or_buffer\u001b[0m\u001b[0;34m,\u001b[0m \u001b[0mkwds\u001b[0m\u001b[0;34m)\u001b[0m\u001b[0;34m\u001b[0m\u001b[0;34m\u001b[0m\u001b[0m\n\u001b[0m\u001b[1;32m   1027\u001b[0m \u001b[0;34m\u001b[0m\u001b[0m\n\u001b[1;32m   1028\u001b[0m \u001b[0;34m\u001b[0m\u001b[0m\n",
            "\u001b[0;32m/usr/local/lib/python3.11/dist-packages/pandas/io/parsers/readers.py\u001b[0m in \u001b[0;36m_read\u001b[0;34m(filepath_or_buffer, kwds)\u001b[0m\n\u001b[1;32m    618\u001b[0m \u001b[0;34m\u001b[0m\u001b[0m\n\u001b[1;32m    619\u001b[0m     \u001b[0;31m# Create the parser.\u001b[0m\u001b[0;34m\u001b[0m\u001b[0;34m\u001b[0m\u001b[0m\n\u001b[0;32m--> 620\u001b[0;31m     \u001b[0mparser\u001b[0m \u001b[0;34m=\u001b[0m \u001b[0mTextFileReader\u001b[0m\u001b[0;34m(\u001b[0m\u001b[0mfilepath_or_buffer\u001b[0m\u001b[0;34m,\u001b[0m \u001b[0;34m**\u001b[0m\u001b[0mkwds\u001b[0m\u001b[0;34m)\u001b[0m\u001b[0;34m\u001b[0m\u001b[0;34m\u001b[0m\u001b[0m\n\u001b[0m\u001b[1;32m    621\u001b[0m \u001b[0;34m\u001b[0m\u001b[0m\n\u001b[1;32m    622\u001b[0m     \u001b[0;32mif\u001b[0m \u001b[0mchunksize\u001b[0m \u001b[0;32mor\u001b[0m \u001b[0miterator\u001b[0m\u001b[0;34m:\u001b[0m\u001b[0;34m\u001b[0m\u001b[0;34m\u001b[0m\u001b[0m\n",
            "\u001b[0;32m/usr/local/lib/python3.11/dist-packages/pandas/io/parsers/readers.py\u001b[0m in \u001b[0;36m__init__\u001b[0;34m(self, f, engine, **kwds)\u001b[0m\n\u001b[1;32m   1618\u001b[0m \u001b[0;34m\u001b[0m\u001b[0m\n\u001b[1;32m   1619\u001b[0m         \u001b[0mself\u001b[0m\u001b[0;34m.\u001b[0m\u001b[0mhandles\u001b[0m\u001b[0;34m:\u001b[0m \u001b[0mIOHandles\u001b[0m \u001b[0;34m|\u001b[0m \u001b[0;32mNone\u001b[0m \u001b[0;34m=\u001b[0m \u001b[0;32mNone\u001b[0m\u001b[0;34m\u001b[0m\u001b[0;34m\u001b[0m\u001b[0m\n\u001b[0;32m-> 1620\u001b[0;31m         \u001b[0mself\u001b[0m\u001b[0;34m.\u001b[0m\u001b[0m_engine\u001b[0m \u001b[0;34m=\u001b[0m \u001b[0mself\u001b[0m\u001b[0;34m.\u001b[0m\u001b[0m_make_engine\u001b[0m\u001b[0;34m(\u001b[0m\u001b[0mf\u001b[0m\u001b[0;34m,\u001b[0m \u001b[0mself\u001b[0m\u001b[0;34m.\u001b[0m\u001b[0mengine\u001b[0m\u001b[0;34m)\u001b[0m\u001b[0;34m\u001b[0m\u001b[0;34m\u001b[0m\u001b[0m\n\u001b[0m\u001b[1;32m   1621\u001b[0m \u001b[0;34m\u001b[0m\u001b[0m\n\u001b[1;32m   1622\u001b[0m     \u001b[0;32mdef\u001b[0m \u001b[0mclose\u001b[0m\u001b[0;34m(\u001b[0m\u001b[0mself\u001b[0m\u001b[0;34m)\u001b[0m \u001b[0;34m->\u001b[0m \u001b[0;32mNone\u001b[0m\u001b[0;34m:\u001b[0m\u001b[0;34m\u001b[0m\u001b[0;34m\u001b[0m\u001b[0m\n",
            "\u001b[0;32m/usr/local/lib/python3.11/dist-packages/pandas/io/parsers/readers.py\u001b[0m in \u001b[0;36m_make_engine\u001b[0;34m(self, f, engine)\u001b[0m\n\u001b[1;32m   1878\u001b[0m                 \u001b[0;32mif\u001b[0m \u001b[0;34m\"b\"\u001b[0m \u001b[0;32mnot\u001b[0m \u001b[0;32min\u001b[0m \u001b[0mmode\u001b[0m\u001b[0;34m:\u001b[0m\u001b[0;34m\u001b[0m\u001b[0;34m\u001b[0m\u001b[0m\n\u001b[1;32m   1879\u001b[0m                     \u001b[0mmode\u001b[0m \u001b[0;34m+=\u001b[0m \u001b[0;34m\"b\"\u001b[0m\u001b[0;34m\u001b[0m\u001b[0;34m\u001b[0m\u001b[0m\n\u001b[0;32m-> 1880\u001b[0;31m             self.handles = get_handle(\n\u001b[0m\u001b[1;32m   1881\u001b[0m                 \u001b[0mf\u001b[0m\u001b[0;34m,\u001b[0m\u001b[0;34m\u001b[0m\u001b[0;34m\u001b[0m\u001b[0m\n\u001b[1;32m   1882\u001b[0m                 \u001b[0mmode\u001b[0m\u001b[0;34m,\u001b[0m\u001b[0;34m\u001b[0m\u001b[0;34m\u001b[0m\u001b[0m\n",
            "\u001b[0;32m/usr/local/lib/python3.11/dist-packages/pandas/io/common.py\u001b[0m in \u001b[0;36mget_handle\u001b[0;34m(path_or_buf, mode, encoding, compression, memory_map, is_text, errors, storage_options)\u001b[0m\n\u001b[1;32m    871\u001b[0m         \u001b[0;32mif\u001b[0m \u001b[0mioargs\u001b[0m\u001b[0;34m.\u001b[0m\u001b[0mencoding\u001b[0m \u001b[0;32mand\u001b[0m \u001b[0;34m\"b\"\u001b[0m \u001b[0;32mnot\u001b[0m \u001b[0;32min\u001b[0m \u001b[0mioargs\u001b[0m\u001b[0;34m.\u001b[0m\u001b[0mmode\u001b[0m\u001b[0;34m:\u001b[0m\u001b[0;34m\u001b[0m\u001b[0;34m\u001b[0m\u001b[0m\n\u001b[1;32m    872\u001b[0m             \u001b[0;31m# Encoding\u001b[0m\u001b[0;34m\u001b[0m\u001b[0;34m\u001b[0m\u001b[0m\n\u001b[0;32m--> 873\u001b[0;31m             handle = open(\n\u001b[0m\u001b[1;32m    874\u001b[0m                 \u001b[0mhandle\u001b[0m\u001b[0;34m,\u001b[0m\u001b[0;34m\u001b[0m\u001b[0;34m\u001b[0m\u001b[0m\n\u001b[1;32m    875\u001b[0m                 \u001b[0mioargs\u001b[0m\u001b[0;34m.\u001b[0m\u001b[0mmode\u001b[0m\u001b[0;34m,\u001b[0m\u001b[0;34m\u001b[0m\u001b[0;34m\u001b[0m\u001b[0m\n",
            "\u001b[0;31mFileNotFoundError\u001b[0m: [Errno 2] No such file or directory: 'dataset/demo_text.txt'"
          ]
        }
      ],
      "source": [
        "# read plain text file\n",
        "df_txt = pd.read_csv(\"dataset/demo_text.txt\")"
      ]
    },
    {
      "cell_type": "markdown",
      "id": "W0hKEl_pJ4M3",
      "metadata": {
        "id": "W0hKEl_pJ4M3"
      },
      "source": [
        "### Read Excel file"
      ]
    },
    {
      "cell_type": "code",
      "execution_count": null,
      "id": "Qb_pWVKFMq4E",
      "metadata": {
        "id": "Qb_pWVKFMq4E"
      },
      "outputs": [],
      "source": [
        "# read excel file\n",
        "df_excel = pd.read_excel('dataset/excel_file.xlsx', sheet_name='Sheet1')\n",
        "df_excel"
      ]
    },
    {
      "cell_type": "markdown",
      "id": "4JZevqX3N0Zl",
      "metadata": {
        "id": "4JZevqX3N0Zl"
      },
      "source": [
        "### Write Excel file"
      ]
    },
    {
      "cell_type": "code",
      "execution_count": null,
      "id": "x8soGD0I02RB",
      "metadata": {
        "id": "x8soGD0I02RB"
      },
      "outputs": [],
      "source": [
        "# save dataframe to the excel file\n",
        "df_url.to_csv('demo.xlsx')"
      ]
    },
    {
      "cell_type": "markdown",
      "id": "10a5b306",
      "metadata": {
        "id": "10a5b306"
      },
      "source": [
        "## 3. Data preprocessing\n",
        "Data preprocessing is the process of making raw data to clean data. This is the most crucial part of data the science. In this section, we will explore data first then we remove unwanted columns, remove duplicates, handle missing data, etc. After this step, we get clean data from raw data."
      ]
    },
    {
      "cell_type": "markdown",
      "id": "2098e35f",
      "metadata": {
        "id": "2098e35f"
      },
      "source": [
        "### 3.1 Data Exploring"
      ]
    },
    {
      "cell_type": "markdown",
      "id": "aHKv7GbtBGG5",
      "metadata": {
        "id": "aHKv7GbtBGG5"
      },
      "source": [
        "#### Retrieving rows from data frame."
      ]
    },
    {
      "cell_type": "code",
      "execution_count": null,
      "id": "cbc7a3df",
      "metadata": {
        "id": "cbc7a3df"
      },
      "outputs": [],
      "source": [
        "# display first 3 rows\n",
        "df.head(3)\n"
      ]
    },
    {
      "cell_type": "code",
      "execution_count": null,
      "id": "58d4f7c8",
      "metadata": {
        "id": "58d4f7c8"
      },
      "outputs": [],
      "source": [
        "# display last 6 rows\n",
        "df.tail(6)"
      ]
    },
    {
      "cell_type": "markdown",
      "id": "1L2Pg_LiChrC",
      "metadata": {
        "id": "1L2Pg_LiChrC"
      },
      "source": [
        "#### Retrieving sample rows from data frame.\n",
        "\n"
      ]
    },
    {
      "cell_type": "code",
      "execution_count": null,
      "id": "36e099c7",
      "metadata": {
        "id": "36e099c7"
      },
      "outputs": [],
      "source": [
        "# Display random 7 sample rows\n",
        "df.sample(100)"
      ]
    },
    {
      "cell_type": "markdown",
      "id": "A5NQiaXLlmS3",
      "metadata": {
        "id": "A5NQiaXLlmS3"
      },
      "source": [
        "#### Retrieving information about dataframe"
      ]
    },
    {
      "cell_type": "code",
      "execution_count": null,
      "id": "74baf9db",
      "metadata": {
        "id": "74baf9db"
      },
      "outputs": [],
      "source": [
        "df.info()"
      ]
    },
    {
      "cell_type": "code",
      "source": [
        "df.describe()"
      ],
      "metadata": {
        "id": "Ml2XunC5SEan"
      },
      "id": "Ml2XunC5SEan",
      "execution_count": null,
      "outputs": []
    },
    {
      "cell_type": "code",
      "execution_count": null,
      "id": "40639f0a",
      "metadata": {
        "id": "40639f0a"
      },
      "outputs": [],
      "source": [
        "# display datatypes\n",
        "df.dtypes"
      ]
    },
    {
      "cell_type": "code",
      "execution_count": null,
      "id": "5ad7ad16",
      "metadata": {
        "id": "5ad7ad16"
      },
      "outputs": [],
      "source": [
        "df.dtypes.value_counts()"
      ]
    },
    {
      "cell_type": "markdown",
      "id": "XfPcQQb2IH-u",
      "metadata": {
        "id": "XfPcQQb2IH-u"
      },
      "source": [
        "#### Display number of rows and columns."
      ]
    },
    {
      "cell_type": "code",
      "execution_count": null,
      "id": "740fc7ae",
      "metadata": {
        "id": "740fc7ae"
      },
      "outputs": [],
      "source": [
        "df.shape"
      ]
    },
    {
      "cell_type": "code",
      "execution_count": null,
      "id": "fdX_PamDE2Ko",
      "metadata": {
        "id": "fdX_PamDE2Ko"
      },
      "outputs": [],
      "source": [
        "df.columns"
      ]
    },
    {
      "cell_type": "code",
      "source": [],
      "metadata": {
        "id": "h5w-MfQeS2m6"
      },
      "id": "h5w-MfQeS2m6",
      "execution_count": null,
      "outputs": []
    },
    {
      "cell_type": "code",
      "execution_count": null,
      "id": "T3t93wXoFTeL",
      "metadata": {
        "id": "T3t93wXoFTeL"
      },
      "outputs": [],
      "source": [
        "# display Age columns first 3 rows data\n",
        "df1 = df[['Age','State_names']]\n",
        "df1.to_csv()"
      ]
    },
    {
      "cell_type": "code",
      "execution_count": null,
      "id": "x7TKiUXBF4RE",
      "metadata": {
        "id": "x7TKiUXBF4RE"
      },
      "outputs": [],
      "source": [
        "# display first 4 rows of Age, Transaction_date and Gender columns\n",
        "df[['Age', 'Marital_status', 'Gender']].sample(4)"
      ]
    },
    {
      "cell_type": "markdown",
      "id": "Bkh1oFtuoSiS",
      "metadata": {
        "id": "Bkh1oFtuoSiS"
      },
      "source": [
        "#### Retrieving a Range of Rows"
      ]
    },
    {
      "cell_type": "code",
      "execution_count": null,
      "id": "20qnnoofpPfn",
      "metadata": {
        "id": "20qnnoofpPfn"
      },
      "outputs": [],
      "source": [
        "# for display 2nd to 6th rows\n",
        "df[2:7]\n",
        "# for display starting to 10th\n",
        "df[11:]\n",
        "\n",
        "# for display last two rows\n",
        "df[-2:]\n",
        "\n"
      ]
    },
    {
      "cell_type": "code",
      "source": [
        "df[-5:]"
      ],
      "metadata": {
        "id": "a-l-b46XUGmO"
      },
      "id": "a-l-b46XUGmO",
      "execution_count": null,
      "outputs": []
    },
    {
      "cell_type": "code",
      "source": [
        "\n",
        "df.loc[df.Gender == \"Male\",\"Gender\"] = 0"
      ],
      "metadata": {
        "id": "Upz-39J9Upp4"
      },
      "id": "Upz-39J9Upp4",
      "execution_count": null,
      "outputs": []
    },
    {
      "cell_type": "code",
      "source": [
        "df.head()"
      ],
      "metadata": {
        "id": "Ak6Ls2lmVzB0"
      },
      "id": "Ak6Ls2lmVzB0",
      "execution_count": null,
      "outputs": []
    },
    {
      "cell_type": "markdown",
      "id": "03dec553",
      "metadata": {
        "id": "03dec553"
      },
      "source": [
        " ### 3.2 Data Cleaning\n",
        "After the explore our datasets may need to clean them for better analysis. Data coming in from multiple sources so It's possible to have an error in some values. This is where data cleaning becomes extremely important. In this section, we will delete unwanted columns, rename columns, correct appropriate data types, etc.\n"
      ]
    },
    {
      "cell_type": "markdown",
      "id": "HGxEahSYJ0Ft",
      "metadata": {
        "id": "HGxEahSYJ0Ft"
      },
      "source": [
        "#### Delete Columns name"
      ]
    },
    {
      "cell_type": "code",
      "execution_count": null,
      "id": "43b62a5f",
      "metadata": {
        "id": "43b62a5f"
      },
      "outputs": [],
      "source": [
        "# Drop unwanted columns\n",
        "df.drop(['Amount_spent'], axis=1, inplace=True)"
      ]
    },
    {
      "cell_type": "code",
      "source": [
        "df.head()"
      ],
      "metadata": {
        "id": "xHbz__Lj7S00"
      },
      "id": "xHbz__Lj7S00",
      "execution_count": null,
      "outputs": []
    },
    {
      "cell_type": "markdown",
      "id": "jtlvWfg7KR_Q",
      "metadata": {
        "id": "jtlvWfg7KR_Q"
      },
      "source": [
        "#### Change Columns name"
      ]
    },
    {
      "cell_type": "code",
      "execution_count": null,
      "id": "0StjAOVBKdMR",
      "metadata": {
        "id": "0StjAOVBKdMR"
      },
      "outputs": [],
      "source": [
        "# create new df_col dataframe from df.copy() method.\n",
        "df_col = df.copy()\n",
        "\n",
        "# rename columns name\n",
        "df.rename(columns={\"Transaction_date\": \"Date\", \"Gender\": \"Sex\"}, inplace=True)\n",
        "df.head(3)"
      ]
    },
    {
      "cell_type": "markdown",
      "id": "HXspyxQwg5wn",
      "metadata": {
        "id": "HXspyxQwg5wn"
      },
      "source": [
        "#### Adding a new column to a DataFrame\n",
        "\n"
      ]
    },
    {
      "cell_type": "code",
      "execution_count": null,
      "id": "te1hhuRlhN-l",
      "metadata": {
        "id": "te1hhuRlhN-l"
      },
      "outputs": [],
      "source": [
        "# Add a new ajusted column which value will be amount_spent * 100\n",
        "df_col['new_col'] = df_col['Age'] + df_col['Age']"
      ]
    },
    {
      "cell_type": "code",
      "execution_count": null,
      "id": "2bXmRJsHig4t",
      "metadata": {
        "id": "2bXmRJsHig4t"
      },
      "outputs": [],
      "source": [
        "df_col.head(3)"
      ]
    },
    {
      "cell_type": "markdown",
      "id": "wEGhdvVnKiDy",
      "metadata": {
        "id": "wEGhdvVnKiDy"
      },
      "source": [
        "#### String value change or replace"
      ]
    },
    {
      "cell_type": "code",
      "execution_count": null,
      "id": "juaJjLGrFvP_",
      "metadata": {
        "id": "juaJjLGrFvP_"
      },
      "outputs": [],
      "source": [
        "df_col.head(3)"
      ]
    },
    {
      "cell_type": "code",
      "execution_count": null,
      "id": "qYOI7nb2KpfL",
      "metadata": {
        "id": "qYOI7nb2KpfL"
      },
      "outputs": [],
      "source": [
        "# changing Female to Woman and Male to Man in Sex column.\n",
        "#first argument in loc function is condition and second one is columns name.\n",
        "df_col.loc[df_col.Sex == \"Female\", 'Sex'] = 'Woman'\n",
        "df_col.loc[df_col.Sex == \"Male\", 'Sex'] = 'Man'\n",
        "\n"
      ]
    },
    {
      "cell_type": "code",
      "source": [
        "df_col.State_names == \"Kansas\""
      ],
      "metadata": {
        "id": "8m-7dqBt93bO"
      },
      "id": "8m-7dqBt93bO",
      "execution_count": null,
      "outputs": []
    },
    {
      "cell_type": "code",
      "source": [
        "df_col.loc[df_col.State_names == \"Kansas\"]"
      ],
      "metadata": {
        "id": "bv0omr4d9kqO"
      },
      "id": "bv0omr4d9kqO",
      "execution_count": null,
      "outputs": []
    },
    {
      "cell_type": "code",
      "execution_count": null,
      "id": "Q7EoRcMSF132",
      "metadata": {
        "id": "Q7EoRcMSF132"
      },
      "outputs": [],
      "source": [
        "df_col.head(3)"
      ]
    },
    {
      "cell_type": "markdown",
      "id": "3JWg0IavF531",
      "metadata": {
        "id": "3JWg0IavF531"
      },
      "source": [
        "Now Sex columns values are changed Female to Woman and Male to Man."
      ]
    },
    {
      "cell_type": "markdown",
      "id": "T7sc_D_N267m",
      "metadata": {
        "id": "T7sc_D_N267m"
      },
      "source": [
        "#### Datatypes change"
      ]
    },
    {
      "cell_type": "code",
      "execution_count": null,
      "id": "uINSYaj54XnX",
      "metadata": {
        "id": "uINSYaj54XnX"
      },
      "outputs": [],
      "source": [
        "df_col.info()"
      ]
    },
    {
      "cell_type": "markdown",
      "id": "IHa8ZUo84cVD",
      "metadata": {
        "id": "IHa8ZUo84cVD"
      },
      "source": [
        "In our `Date` columns, it's object type so now we will convert this to date types, and also we will convert `Referal` columns float64 to float32.\n"
      ]
    },
    {
      "cell_type": "code",
      "execution_count": null,
      "id": "8yfIDgFg4zhY",
      "metadata": {
        "id": "8yfIDgFg4zhY"
      },
      "outputs": [],
      "source": [
        "# change object type to datefime64 format\n",
        "df_col['Date'] = df_col['Date'].astype('datetime64[ns]')\n",
        "\n",
        "# change float64 to float32 of Referal columns\n",
        "df_col['Referal'] = df_col['Referal'].astype('float32')\n"
      ]
    },
    {
      "cell_type": "code",
      "execution_count": null,
      "id": "V6Ux9BVcBJZc",
      "metadata": {
        "id": "V6Ux9BVcBJZc"
      },
      "outputs": [],
      "source": [
        "df_col.info()"
      ]
    },
    {
      "cell_type": "code",
      "source": [
        "df_col.describe()"
      ],
      "metadata": {
        "id": "4-6wdXi6D7d2"
      },
      "id": "4-6wdXi6D7d2",
      "execution_count": null,
      "outputs": []
    },
    {
      "cell_type": "markdown",
      "id": "dcf97600",
      "metadata": {
        "id": "dcf97600"
      },
      "source": [
        "### 3.3 Remove duplicate"
      ]
    },
    {
      "cell_type": "code",
      "execution_count": null,
      "id": "dc549528",
      "metadata": {
        "id": "dc549528"
      },
      "outputs": [],
      "source": [
        "# Display duplicated entries\n",
        "df.duplicated().sum()"
      ]
    },
    {
      "cell_type": "code",
      "source": [
        "df[\"State_names\"].value_counts()"
      ],
      "metadata": {
        "id": "fJYIdtKu_KDn"
      },
      "id": "fJYIdtKu_KDn",
      "execution_count": null,
      "outputs": []
    },
    {
      "cell_type": "code",
      "execution_count": null,
      "id": "00fe073d",
      "metadata": {
        "id": "00fe073d"
      },
      "outputs": [],
      "source": [
        "# duplicate rows dispaly, keep arguments will--- 'first', 'last' and False\n",
        "duplicate_value = df.duplicated(keep='first')\n",
        "\n",
        "df.loc[duplicate_value, :]"
      ]
    },
    {
      "cell_type": "code",
      "execution_count": null,
      "id": "6fb4d3eb",
      "metadata": {
        "id": "6fb4d3eb"
      },
      "outputs": [],
      "source": [
        "# dropping ALL duplicate values\n",
        "df.drop_duplicates(keep = 'first', inplace = True)"
      ]
    },
    {
      "cell_type": "markdown",
      "id": "de1e3272",
      "metadata": {
        "id": "de1e3272"
      },
      "source": [
        "### 3.4 Handling missing values"
      ]
    },
    {
      "cell_type": "markdown",
      "id": "9y1tYxbzLWw1",
      "metadata": {
        "id": "9y1tYxbzLWw1"
      },
      "source": [
        "Handling missing values in the common task in the data pre-processing part. For many reasons most of the time we will encounter missing values. Without dealing with this we can't do the proper model building. For this section first, we will find out missing values then we decided how to handle them. We can handle this by removing affected columns or rows or replacing appropriate values there."
      ]
    },
    {
      "cell_type": "markdown",
      "id": "44ff83e8",
      "metadata": {
        "id": "44ff83e8"
      },
      "source": [
        "#### Display missing values information"
      ]
    },
    {
      "cell_type": "code",
      "execution_count": null,
      "id": "e6ecbaa3",
      "metadata": {
        "id": "e6ecbaa3"
      },
      "outputs": [],
      "source": [
        "df.isna().sum().sort_values(ascending=False)"
      ]
    },
    {
      "cell_type": "markdown",
      "id": "5UgQzwrITZk3",
      "metadata": {
        "id": "5UgQzwrITZk3"
      },
      "source": [
        "#### Delete Nan rows"
      ]
    },
    {
      "cell_type": "markdown",
      "id": "5CV_qntnTpja",
      "metadata": {
        "id": "5CV_qntnTpja"
      },
      "source": [
        "If we have less Nan value then we can delete entire rows by `dropna()` function. For this function, we will add columns name in subset parameter."
      ]
    },
    {
      "cell_type": "code",
      "execution_count": null,
      "id": "3bbb429f",
      "metadata": {
        "id": "3bbb429f"
      },
      "outputs": [],
      "source": [
        "# df copy to df_copy\n",
        "df_new = df.copy()"
      ]
    },
    {
      "cell_type": "code",
      "execution_count": null,
      "id": "99fe65d5",
      "metadata": {
        "id": "99fe65d5"
      },
      "outputs": [],
      "source": [
        "#Delete Nan rows of Job Columns\n",
        "df_new.dropna(subset = [\"Employees_status\"], inplace=True)"
      ]
    },
    {
      "cell_type": "markdown",
      "id": "6bxAq9hnUK4R",
      "metadata": {
        "id": "6bxAq9hnUK4R"
      },
      "source": [
        "#### Delete entire columns"
      ]
    },
    {
      "cell_type": "markdown",
      "id": "UIsVP0RAUS75",
      "metadata": {
        "id": "UIsVP0RAUS75"
      },
      "source": [
        "If we have a large number of nan values in particular columns then dropping those columns might be a good decision rather than imputing."
      ]
    },
    {
      "cell_type": "code",
      "execution_count": null,
      "id": "4400782c",
      "metadata": {
        "id": "4400782c"
      },
      "outputs": [],
      "source": [
        "df_new.drop(columns=['Amount_spent'], inplace=True)"
      ]
    },
    {
      "cell_type": "code",
      "execution_count": null,
      "id": "29243a31",
      "metadata": {
        "id": "29243a31"
      },
      "outputs": [],
      "source": [
        "df_new.isna().sum().sort_values(ascending=False)"
      ]
    },
    {
      "cell_type": "markdown",
      "id": "14-WG_ynUomI",
      "metadata": {
        "id": "14-WG_ynUomI"
      },
      "source": [
        "#### Impute missing values"
      ]
    },
    {
      "cell_type": "markdown",
      "id": "jECrC9RYVJX6",
      "metadata": {
        "id": "jECrC9RYVJX6"
      },
      "source": [
        "Sometimes if we delete entire columns that will be not the appropriate approach. Delete columns can affect our model building because we will lose our main features. For imputing we have many approaches so here are some of the most popular techniques."
      ]
    },
    {
      "cell_type": "markdown",
      "id": "c1a4435f",
      "metadata": {
        "id": "c1a4435f"
      },
      "source": [
        "**Method 1** - Impute fixed value like 0, 'Unknown' or 'Missing' etc. We inpute Unknown in Gender columns"
      ]
    },
    {
      "cell_type": "code",
      "execution_count": null,
      "id": "dfb6c602",
      "metadata": {
        "id": "dfb6c602"
      },
      "outputs": [],
      "source": [
        "df['Gender'].fillna('Unknown', inplace=True)"
      ]
    },
    {
      "cell_type": "markdown",
      "id": "615ac388",
      "metadata": {
        "id": "615ac388"
      },
      "source": [
        "**Method 2** - Impute Mean, Median and Mode"
      ]
    },
    {
      "cell_type": "code",
      "execution_count": null,
      "id": "5a25d8d4",
      "metadata": {
        "id": "5a25d8d4"
      },
      "outputs": [],
      "source": [
        "# Impute Mean in Amount_spent columns\n",
        "mean_amount_spent = df['Amount_spent'].mean()\n",
        "df['Amount_spent'].fillna(mean_amount_spent, inplace=True)\n",
        "\n",
        "#Impute Median in Age column\n",
        "median_age = df['Age'].median()\n",
        "df['Age'].fillna(median_age, inplace=True)\n",
        "\n",
        "# Impute Mode in Employees_status column\n",
        "mode_emp = df['Employees_status'].mode().iloc[0]\n",
        "df['Employees_status'].fillna(mode_emp, inplace=True)"
      ]
    },
    {
      "cell_type": "markdown",
      "id": "13ed0805",
      "metadata": {
        "id": "13ed0805"
      },
      "source": [
        "**Method 3** - Imputing forward fill or backfill by `ffill` and `bfill`. In `ffill` missing value impute from the value of the above row and for `bfill` it's taken from the below rows value."
      ]
    },
    {
      "cell_type": "code",
      "execution_count": null,
      "id": "f9f251fd",
      "metadata": {
        "id": "f9f251fd"
      },
      "outputs": [],
      "source": [
        "\n",
        "df['Referal'].fillna(method='ffill', inplace=True)"
      ]
    },
    {
      "cell_type": "code",
      "execution_count": null,
      "id": "OEFYI75II6PN",
      "metadata": {
        "id": "OEFYI75II6PN"
      },
      "outputs": [],
      "source": [
        "df.isna().sum().sum()"
      ]
    },
    {
      "cell_type": "markdown",
      "id": "AuU7koGzcbPy",
      "metadata": {
        "id": "AuU7koGzcbPy"
      },
      "source": [
        "Now we deal with all missing values with different methods. So now we haven't any null values."
      ]
    },
    {
      "cell_type": "markdown",
      "id": "2980dcd0",
      "metadata": {
        "id": "2980dcd0"
      },
      "source": [
        "## 4. Memory management"
      ]
    },
    {
      "cell_type": "markdown",
      "id": "4hM8Z6ptQwAM",
      "metadata": {
        "id": "4hM8Z6ptQwAM"
      },
      "source": [
        "When we work on large datasets, There we get one big issue is a memory problem. We need too large resources for dealing with this. But there are some methods in pandas to deal with this. Here are some methods or strategies to deal with this problem with help of pandas."
      ]
    },
    {
      "cell_type": "markdown",
      "id": "QyO24xKLTEEm",
      "metadata": {
        "id": "QyO24xKLTEEm"
      },
      "source": [
        "### Change datatypes"
      ]
    },
    {
      "cell_type": "code",
      "execution_count": null,
      "id": "a8a40362",
      "metadata": {
        "id": "a8a40362"
      },
      "outputs": [],
      "source": [
        "df_memory = df.copy()"
      ]
    },
    {
      "cell_type": "code",
      "execution_count": null,
      "id": "c5587bc4",
      "metadata": {
        "id": "c5587bc4"
      },
      "outputs": [],
      "source": [
        "memory_usage = df_memory.memory_usage(deep=True)\n",
        "memory_usage_in_mbs = round(np.sum(memory_usage / 1024 ** 2), 3)\n",
        "print(f\" Total memory taking df_memory dataframe is : {memory_usage_in_mbs:.2f} MB \")"
      ]
    },
    {
      "cell_type": "markdown",
      "id": "YC_ucd2fXzjD",
      "metadata": {
        "id": "YC_ucd2fXzjD"
      },
      "source": [
        "#### Change object to category datatypes"
      ]
    },
    {
      "cell_type": "markdown",
      "id": "Cclw14OrWEia",
      "metadata": {
        "id": "Cclw14OrWEia"
      },
      "source": [
        "Our data frame is small in size. Which is 1.15 MB. Now We will convert our object datatype to category."
      ]
    },
    {
      "cell_type": "code",
      "execution_count": null,
      "id": "c1dfe2d1",
      "metadata": {
        "id": "c1dfe2d1"
      },
      "outputs": [],
      "source": [
        "# Object datatype to category convert\n",
        "df_memory[df_memory.select_dtypes(['object']).columns] = df_memory.select_dtypes(['object']).apply(lambda x: x.astype('category'))"
      ]
    },
    {
      "cell_type": "code",
      "execution_count": null,
      "id": "3a5daead",
      "metadata": {
        "id": "3a5daead"
      },
      "outputs": [],
      "source": [
        "# convert object to category\n",
        "df_memory.info(memory_usage=\"deep\")\n"
      ]
    },
    {
      "cell_type": "markdown",
      "id": "9NcPyDr0WlDJ",
      "metadata": {
        "id": "9NcPyDr0WlDJ"
      },
      "source": [
        "Now its reduce 1.15 megabytes to 216.6 kb. It's almost reduced 5.5 times."
      ]
    },
    {
      "cell_type": "markdown",
      "id": "OAhUpeaVYBDX",
      "metadata": {
        "id": "OAhUpeaVYBDX"
      },
      "source": [
        "#### Change int64 or float64 to int 32, 16, or 8"
      ]
    },
    {
      "cell_type": "markdown",
      "id": "JRp-9sgzbK-y",
      "metadata": {
        "id": "JRp-9sgzbK-y"
      },
      "source": [
        "By default, pandas store numeric values to int64 or float64. Which takes more memory. If we have to store small numbers then we can change to 64 to 32, 16, and so on. For example, our Referal columns have only 0 and 1 values so for that we don't need to store at float64. so now we change it to float16."
      ]
    },
    {
      "cell_type": "code",
      "execution_count": null,
      "id": "a4208c6e",
      "metadata": {
        "id": "a4208c6e"
      },
      "outputs": [],
      "source": [
        "# Change Referal column datatypes\n",
        "df_memory['Referal'] = df_memory['Referal'].astype('float32')"
      ]
    },
    {
      "cell_type": "code",
      "execution_count": null,
      "id": "680accae",
      "metadata": {
        "id": "680accae"
      },
      "outputs": [],
      "source": [
        "# convert object to category\n",
        "df_memory.info(memory_usage=\"deep\")"
      ]
    },
    {
      "cell_type": "markdown",
      "id": "tDkU2zSZdBfA",
      "metadata": {
        "id": "tDkU2zSZdBfA"
      },
      "source": [
        "After changing only one column's data types we reduce 216 kb to 179 kb.\n"
      ]
    },
    {
      "cell_type": "markdown",
      "id": "XtsqLqzyeJ2q",
      "metadata": {
        "id": "XtsqLqzyeJ2q"
      },
      "source": [
        "**Note: Before changing datatypes please make sure it's consequences.**"
      ]
    },
    {
      "cell_type": "markdown",
      "id": "d9d6f71f",
      "metadata": {
        "id": "d9d6f71f"
      },
      "source": [
        "## 5. Data Analysis"
      ]
    },
    {
      "cell_type": "markdown",
      "id": "4e3b208b",
      "metadata": {
        "id": "4e3b208b"
      },
      "source": [
        "### 5.1. Calculating Basic statistical measurement"
      ]
    },
    {
      "cell_type": "code",
      "execution_count": null,
      "id": "36f30a11",
      "metadata": {
        "id": "36f30a11"
      },
      "outputs": [],
      "source": [
        "df.describe().T"
      ]
    },
    {
      "cell_type": "markdown",
      "id": "n6s8tjhWLkxS",
      "metadata": {
        "id": "n6s8tjhWLkxS"
      },
      "source": [
        "We know already above code will display only numeric columns basic statistical information. for object or category columns we can use `describe(include=object)` ."
      ]
    },
    {
      "cell_type": "code",
      "execution_count": null,
      "id": "bedd8b71",
      "metadata": {
        "id": "bedd8b71"
      },
      "outputs": [],
      "source": [
        "df.describe(include=object).T"
      ]
    },
    {
      "cell_type": "markdown",
      "id": "f_p8W2lmL-C7",
      "metadata": {
        "id": "f_p8W2lmL-C7"
      },
      "source": [
        "We can calculate the mean, median, mode, maximum values, minimum values of individual columns we simply use these functions."
      ]
    },
    {
      "cell_type": "code",
      "execution_count": null,
      "id": "c60ff776",
      "metadata": {
        "id": "c60ff776"
      },
      "outputs": [],
      "source": [
        "# Calculate Mean\n",
        "mean = df['Age'].mean()\n",
        "\n",
        "# Calculate Median\n",
        "median = df['Age'].median()\n",
        "\n",
        "#Calculate Mode\n",
        "mode = df['Age'].mode().iloc[0]\n",
        "\n",
        "# Calculate standard deviation\n",
        "std = df['Age'].std()\n",
        "\n",
        "# Calculate Minimum values\n",
        "minimum = df['Age'].min()\n",
        "\n",
        "# Calculate Maximum values\n",
        "maximum = df.Age.max()\n",
        "\n",
        "print(f\" Mean of Age : {mean}\")\n",
        "print(f\" Median of Age : {median}\")\n",
        "print(f\" Mode of Age : {mode}\")\n",
        "print(f\" Standard deviation of Age : {std:.2f}\")\n",
        "print(f\" Maximum of Age : {maximum}\")\n",
        "print(f\" Menimum of Age : {minimum}\")"
      ]
    },
    {
      "cell_type": "markdown",
      "id": "Dd---Bu-Ms-R",
      "metadata": {
        "id": "Dd---Bu-Ms-R"
      },
      "source": [
        "In pandas we can display the correlation of different numeric columns. For this we can use `.corr()` function."
      ]
    },
    {
      "cell_type": "code",
      "execution_count": null,
      "id": "8e89ace8",
      "metadata": {
        "id": "8e89ace8"
      },
      "outputs": [],
      "source": [
        "# calculate correlation\n",
        "df.corr()"
      ]
    },
    {
      "cell_type": "markdown",
      "id": "CZnzwDXQg35f",
      "metadata": {
        "id": "CZnzwDXQg35f"
      },
      "source": [
        "### 5.2 Basic built in function for data analysis"
      ]
    },
    {
      "cell_type": "markdown",
      "id": "1dUAN1hwfe8m",
      "metadata": {
        "id": "1dUAN1hwfe8m"
      },
      "source": [
        "#### Number of uniqe values in category column"
      ]
    },
    {
      "cell_type": "code",
      "execution_count": null,
      "id": "01b77672",
      "metadata": {
        "id": "01b77672"
      },
      "outputs": [],
      "source": [
        "# for display how many unique values are there in State_names column\n",
        "df['State_names'].nunique()"
      ]
    },
    {
      "cell_type": "markdown",
      "id": "uKCSrDSDI7Bs",
      "metadata": {
        "id": "uKCSrDSDI7Bs"
      },
      "source": [
        "#### Shows all unique values"
      ]
    },
    {
      "cell_type": "code",
      "execution_count": null,
      "id": "5ca391db",
      "metadata": {
        "id": "5ca391db"
      },
      "outputs": [],
      "source": [
        "# for display uniqe values of State_names column\n",
        "df['State_names'].unique()"
      ]
    },
    {
      "cell_type": "markdown",
      "id": "9VsTcgZOhakP",
      "metadata": {
        "id": "9VsTcgZOhakP"
      },
      "source": [
        "#### Counts of unique values"
      ]
    },
    {
      "cell_type": "code",
      "execution_count": null,
      "id": "ec290b27",
      "metadata": {
        "id": "ec290b27"
      },
      "outputs": [],
      "source": [
        "df['Gender'].value_counts()"
      ]
    },
    {
      "cell_type": "markdown",
      "id": "dVItecqDKUwk",
      "metadata": {
        "id": "dVItecqDKUwk"
      },
      "source": [
        "If we want to show with the percentage of occurrence rather number than we use `normalize=True` argument in `value_counts()` function"
      ]
    },
    {
      "cell_type": "code",
      "execution_count": null,
      "id": "4876aa46",
      "metadata": {
        "id": "4876aa46"
      },
      "outputs": [],
      "source": [
        "# Calculate percentage of each category\n",
        "df['Gender'].value_counts(normalize=True)"
      ]
    },
    {
      "cell_type": "code",
      "execution_count": null,
      "id": "665280f1",
      "metadata": {
        "id": "665280f1"
      },
      "outputs": [],
      "source": [
        "df['State_names'].value_counts().sort_values(ascending = False).head(20)"
      ]
    },
    {
      "cell_type": "code",
      "execution_count": null,
      "id": "eed29623",
      "metadata": {
        "id": "eed29623"
      },
      "outputs": [],
      "source": [
        "# Sort Values by State_names\n",
        "df.sort_values(by=['State_names']).head(3)"
      ]
    },
    {
      "cell_type": "markdown",
      "id": "_4zUpaMCm6Ig",
      "metadata": {
        "id": "_4zUpaMCm6Ig"
      },
      "source": [
        "For sorting our dataframe by Amount_spent with ascending order:"
      ]
    },
    {
      "cell_type": "code",
      "execution_count": null,
      "id": "9nAJo_njnDTr",
      "metadata": {
        "id": "9nAJo_njnDTr"
      },
      "outputs": [],
      "source": [
        "# Sort Values Amount_spent with ascending order\n",
        "df.sort_values(by=['Amount_spent']).head(3)"
      ]
    },
    {
      "cell_type": "markdown",
      "id": "r0GtAVPrp2BV",
      "metadata": {
        "id": "r0GtAVPrp2BV"
      },
      "source": [
        "For sorting our dataframe by Amount_spent with descending order:"
      ]
    },
    {
      "cell_type": "code",
      "execution_count": null,
      "id": "GYRYIUCHpQU5",
      "metadata": {
        "id": "GYRYIUCHpQU5"
      },
      "outputs": [],
      "source": [
        "# Sort Values Amount_spent with descending order\n",
        "df.sort_values(by=['Age'], ascending=False).loc[0]"
      ]
    },
    {
      "cell_type": "markdown",
      "id": "TGbW_Qtmn1C2",
      "metadata": {
        "id": "TGbW_Qtmn1C2"
      },
      "source": [
        "Alternatively, We can use `nlargest()` and `nsmallest()` functions for displaying largest and smallest values with desired numbers. for example, If we want to display 4 largest Amount_spent rows then we use this:"
      ]
    },
    {
      "cell_type": "code",
      "execution_count": null,
      "id": "1580b9fe",
      "metadata": {
        "id": "1580b9fe"
      },
      "outputs": [],
      "source": [
        "# nlargest\n",
        "df.nlargest(4, 'Amount_spent').head(10) # first argument is how many rows you want to disply and second one is columns name"
      ]
    },
    {
      "cell_type": "markdown",
      "id": "T0YVV84jrCXX",
      "metadata": {
        "id": "T0YVV84jrCXX"
      },
      "source": [
        "For 3 smallest Amount_spent rows"
      ]
    },
    {
      "cell_type": "code",
      "execution_count": null,
      "id": "458403e0",
      "metadata": {
        "id": "458403e0"
      },
      "outputs": [],
      "source": [
        "# nsmallest\n",
        "df.nsmallest(3, 'Age').head(10)"
      ]
    },
    {
      "cell_type": "markdown",
      "id": "LV6wnCzjwgfv",
      "metadata": {
        "id": "LV6wnCzjwgfv"
      },
      "source": [
        "#### Conditional queries on Data"
      ]
    },
    {
      "cell_type": "code",
      "execution_count": null,
      "id": "9998e789",
      "metadata": {
        "id": "9998e789"
      },
      "outputs": [],
      "source": [
        "# filtering - Only show Paypal users\n",
        "condition = df['Payment_method'] == 'PayPal'\n",
        "df[condition].head(4)"
      ]
    },
    {
      "cell_type": "markdown",
      "id": "nSlQRRNrwn8S",
      "metadata": {
        "id": "nSlQRRNrwn8S"
      },
      "source": [
        "We can apply multiple conditional queries like before. For example, if we want to display all Married female people who lived in New York then we use the following:"
      ]
    },
    {
      "cell_type": "code",
      "execution_count": null,
      "id": "YvIpSZM2xiD4",
      "metadata": {
        "id": "YvIpSZM2xiD4"
      },
      "outputs": [],
      "source": [
        "# first create 3 condition\n",
        "female_person = df['Gender'] == 'Female'\n",
        "married_person = df['Marital_status'] == 'Married'\n",
        "loc_newyork = df['State_names'] == 'New York'\n",
        "\n",
        "# we passing condition on our dataframe\n",
        "df[female_person & married_person & loc_newyork].head(4)"
      ]
    },
    {
      "cell_type": "markdown",
      "id": "x0r-TXU244iu",
      "metadata": {
        "id": "x0r-TXU244iu"
      },
      "source": [
        "### 5.3 Summarizing or grouping data"
      ]
    },
    {
      "cell_type": "markdown",
      "id": "NtTwyDD77VG0",
      "metadata": {
        "id": "NtTwyDD77VG0"
      },
      "source": [
        "#### Groupby\n"
      ]
    },
    {
      "cell_type": "markdown",
      "id": "2o84INb7AsFp",
      "metadata": {
        "id": "2o84INb7AsFp"
      },
      "source": [
        "**Grouping by one column:** For example, if we want to find `maximum` values of `Age` and `Amount_spent` by `Gender` then we can use this:"
      ]
    },
    {
      "cell_type": "code",
      "execution_count": null,
      "id": "2p_-CTIG-hSk",
      "metadata": {
        "id": "2p_-CTIG-hSk"
      },
      "outputs": [],
      "source": [
        "df[['Age', 'Amount_spent']].groupby(df['Gender']).max()\n"
      ]
    },
    {
      "cell_type": "markdown",
      "id": "7WCCLbwfCy_q",
      "metadata": {
        "id": "7WCCLbwfCy_q"
      },
      "source": [
        "To find `mean`, `count`, and `max` values of `Age` and `Amount_spent` by `Gender` then we can use `agg()` function with `groupby()` ."
      ]
    },
    {
      "cell_type": "code",
      "execution_count": null,
      "id": "2b47c9d9",
      "metadata": {
        "id": "2b47c9d9"
      },
      "outputs": [],
      "source": [
        "# Group by one columns\n",
        "state_gender_res = df[['Age','Gender','Amount_spent']].groupby(['Gender']).agg(['count', 'mean', 'max'])\n",
        "state_gender_res"
      ]
    },
    {
      "cell_type": "markdown",
      "id": "9umxlA7YDjvD",
      "metadata": {
        "id": "9umxlA7YDjvD"
      },
      "source": [
        "**Grouping by multiple columns:** To find total count, maximum and minimum values of Amount_spent by State_names, Gender, and Payment_method then we can pass these columns names under `groupby()` function and add `.agg()` with `count`, `mean`, `max` argument."
      ]
    },
    {
      "cell_type": "code",
      "execution_count": null,
      "id": "667947eb",
      "metadata": {
        "id": "667947eb"
      },
      "outputs": [],
      "source": [
        "#Group By multiple columns\n",
        "state_gender_res = df[['State_names','Gender','Payment_method','Amount_spent']].groupby([ 'State_names','Gender', 'Payment_method']).agg(['count', 'min', 'max'])\n",
        "state_gender_res.head(12)"
      ]
    },
    {
      "cell_type": "markdown",
      "id": "BTEMA10_JfrV",
      "metadata": {
        "id": "BTEMA10_JfrV"
      },
      "source": [
        "#### Cross Tabulation (Crosstab)"
      ]
    },
    {
      "cell_type": "markdown",
      "id": "bNNkQ9-eRclS",
      "metadata": {
        "id": "bNNkQ9-eRclS"
      },
      "source": [
        "For creating a simple crosstab between Maritatal_status and Payment_method columns we just use `crosstab()` with both column names."
      ]
    },
    {
      "cell_type": "code",
      "execution_count": null,
      "id": "_9rixwbc5VEe",
      "metadata": {
        "id": "_9rixwbc5VEe"
      },
      "outputs": [],
      "source": [
        "pd.crosstab(df.Marital_status, df.Payment_method)"
      ]
    },
    {
      "cell_type": "markdown",
      "id": "OK_gu5KFSETb",
      "metadata": {
        "id": "OK_gu5KFSETb"
      },
      "source": [
        "We can include subtotals by `margins` parameter:"
      ]
    },
    {
      "cell_type": "code",
      "execution_count": null,
      "id": "UNpAxzbLSMBJ",
      "metadata": {
        "id": "UNpAxzbLSMBJ"
      },
      "outputs": [],
      "source": [
        "pd.crosstab(df.Marital_status, df.Payment_method, margins=True, margins_name=\"Total\")"
      ]
    },
    {
      "cell_type": "markdown",
      "id": "rDLBsIoZVRUK",
      "metadata": {
        "id": "rDLBsIoZVRUK"
      },
      "source": [
        "If We want a display with percentage than `normalize=True` parameter help"
      ]
    },
    {
      "cell_type": "code",
      "execution_count": null,
      "id": "rM6o2CocVeYG",
      "metadata": {
        "id": "rM6o2CocVeYG"
      },
      "outputs": [],
      "source": [
        "pd.crosstab(df.Marital_status, df.Payment_method, normalize=True, margins=True, margins_name=\"Total\")"
      ]
    },
    {
      "cell_type": "markdown",
      "id": "D3GJPV8aVxsD",
      "metadata": {
        "id": "D3GJPV8aVxsD"
      },
      "source": [
        "In this crosstab features, we can pass multiple columns names for grouping and analyzing data. For instance, If we want to see how the `Payment_method` and `Employees_status` are distributed by `Marital_status` then we will pass these columns' names in `crosstab()` function and it will show below."
      ]
    },
    {
      "cell_type": "code",
      "execution_count": null,
      "id": "uIHl15rL6fzm",
      "metadata": {
        "id": "uIHl15rL6fzm"
      },
      "outputs": [],
      "source": [
        "pd.crosstab(df.Marital_status, [df.Payment_method, df.Employees_status])"
      ]
    },
    {
      "cell_type": "markdown",
      "id": "2c7fbc9c",
      "metadata": {
        "id": "2c7fbc9c"
      },
      "source": [
        "## 6. Data Visualization"
      ]
    },
    {
      "cell_type": "markdown",
      "id": "uOkFj7ixq9d2",
      "metadata": {
        "id": "uOkFj7ixq9d2"
      },
      "source": [
        "Visualization is the key to data analysis. The most popular python package for visualization are matplotlib and seaborn but sometimes pandas will be handy for you. Pandas also provide some visualization plots easily. For the basic analysis part, it will be easy to use. For this section, we are exploring some different types of plots using pandas. Here are the plots."
      ]
    },
    {
      "cell_type": "markdown",
      "id": "GeYsxRfly4Oq",
      "metadata": {
        "id": "GeYsxRfly4Oq"
      },
      "source": [
        "### 6.1 Line plot\n"
      ]
    },
    {
      "cell_type": "markdown",
      "id": "x4GV-jQS3Wf3",
      "metadata": {
        "id": "x4GV-jQS3Wf3"
      },
      "source": [
        "For creating a line plot in pandas we use `.plot()` with two columns name for the argument. For example, we create a line plot from one dummy dataset."
      ]
    },
    {
      "cell_type": "code",
      "source": [],
      "metadata": {
        "id": "ysTCzcKfHLU6"
      },
      "id": "ysTCzcKfHLU6",
      "execution_count": null,
      "outputs": []
    },
    {
      "cell_type": "code",
      "execution_count": null,
      "id": "5uTSu01EmH-p",
      "metadata": {
        "id": "5uTSu01EmH-p"
      },
      "outputs": [],
      "source": [
        "dict_line = {\n",
        "    'year': [2016, 2017, 2018, 2019, 2020, 2021],\n",
        "    'price': [200, 250, 260, 220, 280, 300]\n",
        "}\n",
        "df_line = pd.DataFrame(dict_line)"
      ]
    },
    {
      "cell_type": "code",
      "execution_count": null,
      "id": "Q8Oo5OrpnSQe",
      "metadata": {
        "id": "Q8Oo5OrpnSQe"
      },
      "outputs": [],
      "source": [
        "# use plot() method on the dataframe\n",
        "df_line.plot('year', 'price');"
      ]
    },
    {
      "cell_type": "markdown",
      "id": "setZs0vH35tj",
      "metadata": {
        "id": "setZs0vH35tj"
      },
      "source": [
        "The above line chart shows prices over a different time. It shows like price trend."
      ]
    },
    {
      "cell_type": "markdown",
      "id": "ki2MpNQ6bQUW",
      "metadata": {
        "id": "ki2MpNQ6bQUW"
      },
      "source": [
        "### 6.2 Bar plot\n",
        "\n",
        "A bar plot is also known as a bar chart shows quantitative or qualitative values for different category items. In a bar plot data are represented in the form of bars. Bars length or height are used to represent the quantitative value for each item. Bar plot can be plotted horizontally or vertically. For creating these plots look below."
      ]
    },
    {
      "cell_type": "markdown",
      "id": "c0o6W3oobIA9",
      "metadata": {
        "id": "c0o6W3oobIA9"
      },
      "source": [
        "**For horizontal bar:**"
      ]
    },
    {
      "cell_type": "code",
      "execution_count": null,
      "id": "ykQ0Vz8GZr63",
      "metadata": {
        "id": "ykQ0Vz8GZr63"
      },
      "outputs": [],
      "source": [
        "df['Employees_status'].value_counts().plot(kind='bar');"
      ]
    },
    {
      "cell_type": "markdown",
      "id": "hUW2_IyhbNtQ",
      "metadata": {
        "id": "hUW2_IyhbNtQ"
      },
      "source": [
        "**For vertical bar:**"
      ]
    },
    {
      "cell_type": "code",
      "execution_count": null,
      "id": "0RFfg-TzbTB5",
      "metadata": {
        "id": "0RFfg-TzbTB5"
      },
      "outputs": [],
      "source": [
        "df['Employees_status'].value_counts().plot(kind='barh');"
      ]
    },
    {
      "cell_type": "markdown",
      "id": "ZdCUNgj9iKHo",
      "metadata": {
        "id": "ZdCUNgj9iKHo"
      },
      "source": [
        "### 6.3 Pie plot"
      ]
    },
    {
      "cell_type": "markdown",
      "id": "EG1XHZHLbiFX",
      "metadata": {
        "id": "EG1XHZHLbiFX"
      },
      "source": [
        "A pie plot is also known as a pie chart. A pie plot is a circular graph that represents the total value with its components. The area of a circle represents the total value and the different sectors of the circle represent the different parts. In this plot, the data are expressed as percentages. Each component is expressed as a percentage of the total value."
      ]
    },
    {
      "cell_type": "markdown",
      "id": "DYGE4SaNcZLo",
      "metadata": {
        "id": "DYGE4SaNcZLo"
      },
      "source": [
        "In pandas for creating pie plot. We use `kind=pie` in `plot()` function in dataframes columns or series."
      ]
    },
    {
      "cell_type": "code",
      "execution_count": null,
      "id": "jf61Zg3GiPFp",
      "metadata": {
        "id": "jf61Zg3GiPFp"
      },
      "outputs": [],
      "source": [
        "df['Segment'].value_counts().plot(\n",
        "    kind='pie');"
      ]
    },
    {
      "cell_type": "markdown",
      "id": "utOuo_y6biXn",
      "metadata": {
        "id": "utOuo_y6biXn"
      },
      "source": [
        "### 6.4 Box Plot\n",
        "A box plot is also known as a box and whisker plot. This plot is used to show the distribution of a variable based on its quartiles. Box plot displays the five-number summary of a set of data. The five-number summary is the minimum, first quartile, median, third quartile, and maximum. It will also be popular to identify outliers."
      ]
    },
    {
      "cell_type": "markdown",
      "id": "FK-M1zjEeWoB",
      "metadata": {
        "id": "FK-M1zjEeWoB"
      },
      "source": [
        "We can plot this by one column or multiple columns. For multiple columns, we need to pass columns name in `y` variable as a list."
      ]
    },
    {
      "cell_type": "code",
      "execution_count": null,
      "id": "Oh9c2_0xblDZ",
      "metadata": {
        "id": "Oh9c2_0xblDZ"
      },
      "outputs": [],
      "source": [
        "df.plot(y=['Amount_spent'], kind='box');"
      ]
    },
    {
      "cell_type": "markdown",
      "id": "LsLAK0twwF5h",
      "metadata": {
        "id": "LsLAK0twwF5h"
      },
      "source": [
        "In a boxplot, we can plot the distribution of categorical variables against a numerical variable and compare them. Let's plot it with the Employees_status and Amount_spent columns with pandas `boxplot()` method:"
      ]
    },
    {
      "cell_type": "code",
      "execution_count": null,
      "id": "CMdCBcUjtY85",
      "metadata": {
        "id": "CMdCBcUjtY85"
      },
      "outputs": [],
      "source": [
        "import matplotlib.pyplot as plt\n",
        "\n",
        "np.warnings.filterwarnings('ignore', category=np.VisibleDeprecationWarning)\n",
        "fig, ax = plt.subplots(figsize=(6,6))\n",
        "\n",
        "df.boxplot(by ='Employees_status', column =['Amount_spent'],ax=ax, grid = False);"
      ]
    },
    {
      "cell_type": "markdown",
      "id": "XlioEpoHf5tx",
      "metadata": {
        "id": "XlioEpoHf5tx"
      },
      "source": [
        "### 6.5 Histogram\n",
        "\n",
        "A histogram shows the frequency and distribution of quantitative measurement across grouped values for data items. It is commonly used in statistics to show how many of a certain type of variable occurs within a specific range or bucket. Below we will plot a histogram for looking Age distribution."
      ]
    },
    {
      "cell_type": "code",
      "execution_count": null,
      "id": "tIfoa79re8ca",
      "metadata": {
        "id": "tIfoa79re8ca"
      },
      "outputs": [],
      "source": [
        "df.plot(\n",
        "    y='Age',\n",
        "    kind='hist',\n",
        "    bins=10\n",
        ");"
      ]
    },
    {
      "cell_type": "markdown",
      "id": "zlw8AfaLgCIp",
      "metadata": {
        "id": "zlw8AfaLgCIp"
      },
      "source": [
        "### 6.6 KDE plot"
      ]
    },
    {
      "cell_type": "markdown",
      "id": "bsv4rB3rh9kY",
      "metadata": {
        "id": "bsv4rB3rh9kY"
      },
      "source": [
        "A kernel density estimate (KDE) plot is a method for visualizing the distribution of observations in a dataset, analogous to a histogram. KDE represents the data using a continuous probability density curve in one or more dimensions."
      ]
    },
    {
      "cell_type": "code",
      "execution_count": null,
      "id": "YW8XyrPugFnL",
      "metadata": {
        "id": "YW8XyrPugFnL"
      },
      "outputs": [],
      "source": [
        "df.plot(\n",
        "    y='Age',\n",
        "    xlim=(0, 100),\n",
        "    kind='kde'\n",
        ");"
      ]
    },
    {
      "cell_type": "markdown",
      "id": "BDnue_BWhLmF",
      "metadata": {
        "id": "BDnue_BWhLmF"
      },
      "source": [
        "### 6.7 Scatterplot\n",
        "A scatterplot is used to observe and show relationships between two quantitative variables for different category items. Each member of the dataset gets plotted as a point whose x-y coordinates relate to its values for the two variables. Below we will plot a scatterplot to display relationships between Age and Amount_spent columns."
      ]
    },
    {
      "cell_type": "code",
      "execution_count": null,
      "id": "zF0yBKd8hObb",
      "metadata": {
        "id": "zF0yBKd8hObb"
      },
      "outputs": [],
      "source": [
        "df.plot(\n",
        "    x='Age',\n",
        "    y='Amount_spent',\n",
        "    kind='scatter'\n",
        ");"
      ]
    },
    {
      "cell_type": "markdown",
      "id": "a9414a18",
      "metadata": {
        "id": "a9414a18"
      },
      "source": [
        "## 7. Reference\n",
        "\n",
        "\n",
        "1. [Pandas user guide](https://pandas.pydata.org/docs/user_guide/index.html)\n",
        "2. [Pandas 1.x Cookbook](https://www.packtpub.com/product/pandas-1-x-cookbook-second-edition/9781839213106)\n",
        "3. [The Data Wrangling Workshop](https://www.packtpub.com/product/the-data-wrangling-workshop-second-edition/9781839215001)\n",
        "4. [Python for Data Analysis](https://www.oreilly.com/library/view/python-for-data/9781449323592/)\n",
        "5. [Data Analysis with Python: Zero to Pandas - Jovian YouTube Channel](https://www.youtube.com/watch?v=BaV4PRXYNIY&list=PLyMom0n-MBrpzC91Uo560S4VbsiLYtCwo)\n",
        "6. [Best practices with pandas - Data School YouTube Channel](https://www.youtube.com/watch?v=hl-TGI4550M&list=PL5-da3qGB5IBITZj_dYSFqnd_15JgqwA6)\n",
        "7. [Pandas Tutorials - Corey Schafer YouTube Channel](https://www.youtube.com/watch?v=ZyhVh-qRZPA&list=PL-osiE80TeTsWmV9i9c58mdDCSskIFdDS)\n",
        "8. [Pandas Crosstab Explained](https://pbpython.com/pandas-crosstab.html)"
      ]
    }
  ],
  "metadata": {
    "colab": {
      "collapsed_sections": [
        "q72dXwaog4h7",
        "68cb06b1",
        "2098e35f",
        "44ff83e8",
        "5UgQzwrITZk3",
        "6bxAq9hnUK4R",
        "2980dcd0",
        "QyO24xKLTEEm",
        "YC_ucd2fXzjD",
        "d9d6f71f",
        "4e3b208b",
        "CZnzwDXQg35f",
        "x0r-TXU244iu",
        "2c7fbc9c"
      ],
      "name": "pandas_tutorial.ipynb",
      "provenance": [],
      "include_colab_link": true
    },
    "kernelspec": {
      "display_name": "Python 3",
      "language": "python",
      "name": "python3"
    },
    "language_info": {
      "codemirror_mode": {
        "name": "ipython",
        "version": 3
      },
      "file_extension": ".py",
      "mimetype": "text/x-python",
      "name": "python",
      "nbconvert_exporter": "python",
      "pygments_lexer": "ipython3",
      "version": "3.8.8"
    }
  },
  "nbformat": 4,
  "nbformat_minor": 5
}